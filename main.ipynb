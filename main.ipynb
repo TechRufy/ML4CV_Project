{
 "cells": [
  {
   "cell_type": "code",
   "execution_count": 1,
   "id": "ac233e5e",
   "metadata": {
    "execution": {
     "iopub.execute_input": "2025-10-11T23:18:04.224064Z",
     "iopub.status.busy": "2025-10-11T23:18:04.223801Z",
     "iopub.status.idle": "2025-10-11T23:18:04.230347Z",
     "shell.execute_reply": "2025-10-11T23:18:04.229652Z"
    },
    "papermill": {
     "duration": 0.012793,
     "end_time": "2025-10-11T23:18:04.231612",
     "exception": false,
     "start_time": "2025-10-11T23:18:04.218819",
     "status": "completed"
    },
    "tags": []
   },
   "outputs": [],
   "source": [
    "DATA_DIR = \"./data\""
   ]
  },
  {
   "cell_type": "code",
   "execution_count": 2,
   "id": "aba41cba",
   "metadata": {
    "execution": {
     "iopub.execute_input": "2025-10-11T23:18:04.238606Z",
     "iopub.status.busy": "2025-10-11T23:18:04.238200Z",
     "iopub.status.idle": "2025-10-11T23:20:06.463261Z",
     "shell.execute_reply": "2025-10-11T23:20:06.462275Z"
    },
    "papermill": {
     "duration": 122.230079,
     "end_time": "2025-10-11T23:20:06.464898",
     "exception": false,
     "start_time": "2025-10-11T23:18:04.234819",
     "status": "completed"
    },
    "tags": []
   },
   "outputs": [
    {
     "name": "stdout",
     "output_type": "stream",
     "text": [
      "--2025-10-11 23:18:04--  https://people.eecs.berkeley.edu/~hendrycks/streethazards_train.tar\r\n",
      "Resolving people.eecs.berkeley.edu (people.eecs.berkeley.edu)... 128.32.244.190\r\n",
      "Connecting to people.eecs.berkeley.edu (people.eecs.berkeley.edu)|128.32.244.190|:443... connected.\r\n",
      "HTTP request sent, awaiting response... 200 OK\r\n",
      "Length: 9386226176 (8.7G) [application/x-tar]\r\n",
      "Saving to: ‘./data/train.tar’\r\n",
      "\r\n",
      "./data/train.tar    100%[===================>]   8.74G  87.1MB/s    in 66s     \r\n",
      "\r\n",
      "2025-10-11 23:19:11 (135 MB/s) - ‘./data/train.tar’ saved [9386226176/9386226176]\r\n",
      "\r\n",
      "--2025-10-11 23:19:32--  https://people.eecs.berkeley.edu/~hendrycks/streethazards_test.tar\r\n",
      "Resolving people.eecs.berkeley.edu (people.eecs.berkeley.edu)... 128.32.244.190\r\n",
      "Connecting to people.eecs.berkeley.edu (people.eecs.berkeley.edu)|128.32.244.190|:443... connected.\r\n",
      "HTTP request sent, awaiting response... 200 OK\r\n",
      "Length: 2150484992 (2.0G) [application/x-tar]\r\n",
      "Saving to: ‘./data/test.tar’\r\n",
      "\r\n",
      "./data/test.tar     100%[===================>]   2.00G   126MB/s    in 18s     \r\n",
      "\r\n",
      "2025-10-11 23:19:51 (113 MB/s) - ‘./data/test.tar’ saved [2150484992/2150484992]\r\n",
      "\r\n"
     ]
    }
   ],
   "source": [
    "!mkdir -p $DATA_DIR\n",
    "!test ! -d $DATA_DIR/train \\\n",
    "    && wget -O $DATA_DIR/train.tar https://people.eecs.berkeley.edu/~hendrycks/streethazards_train.tar \\\n",
    "    && tar -xf $DATA_DIR/train.tar -C $DATA_DIR \\\n",
    "    && rm -r $DATA_DIR/train.tar \\\n",
    "    && mv $DATA_DIR/train $DATA_DIR/streethazards_train\n",
    "!test ! -d $DATA_DIR/test \\\n",
    "    && wget -O $DATA_DIR/test.tar https://people.eecs.berkeley.edu/~hendrycks/streethazards_test.tar \\\n",
    "    && tar -xf $DATA_DIR/test.tar -C $DATA_DIR \\\n",
    "    && rm -r $DATA_DIR/test.tar\\\n",
    "    && mv $DATA_DIR/test $DATA_DIR/streethazards_test"
   ]
  },
  {
   "cell_type": "code",
   "execution_count": 3,
   "id": "e5c50a78",
   "metadata": {
    "execution": {
     "iopub.execute_input": "2025-10-11T23:20:06.505973Z",
     "iopub.status.busy": "2025-10-11T23:20:06.505689Z",
     "iopub.status.idle": "2025-10-11T23:21:24.660752Z",
     "shell.execute_reply": "2025-10-11T23:21:24.659941Z"
    },
    "papermill": {
     "duration": 78.176927,
     "end_time": "2025-10-11T23:21:24.662159",
     "exception": false,
     "start_time": "2025-10-11T23:20:06.485232",
     "status": "completed"
    },
    "tags": []
   },
   "outputs": [
    {
     "name": "stdout",
     "output_type": "stream",
     "text": [
      "Collecting segmentation-models-pytorch\r\n",
      "  Downloading segmentation_models_pytorch-0.5.0-py3-none-any.whl.metadata (17 kB)\r\n",
      "Requirement already satisfied: huggingface-hub>=0.24 in /usr/local/lib/python3.11/dist-packages (from segmentation-models-pytorch) (1.0.0rc2)\r\n",
      "Requirement already satisfied: numpy>=1.19.3 in /usr/local/lib/python3.11/dist-packages (from segmentation-models-pytorch) (1.26.4)\r\n",
      "Requirement already satisfied: pillow>=8 in /usr/local/lib/python3.11/dist-packages (from segmentation-models-pytorch) (11.3.0)\r\n",
      "Requirement already satisfied: safetensors>=0.3.1 in /usr/local/lib/python3.11/dist-packages (from segmentation-models-pytorch) (0.5.3)\r\n",
      "Requirement already satisfied: timm>=0.9 in /usr/local/lib/python3.11/dist-packages (from segmentation-models-pytorch) (1.0.19)\r\n",
      "Requirement already satisfied: torch>=1.8 in /usr/local/lib/python3.11/dist-packages (from segmentation-models-pytorch) (2.6.0+cu124)\r\n",
      "Requirement already satisfied: torchvision>=0.9 in /usr/local/lib/python3.11/dist-packages (from segmentation-models-pytorch) (0.21.0+cu124)\r\n",
      "Requirement already satisfied: tqdm>=4.42.1 in /usr/local/lib/python3.11/dist-packages (from segmentation-models-pytorch) (4.67.1)\r\n",
      "Requirement already satisfied: filelock in /usr/local/lib/python3.11/dist-packages (from huggingface-hub>=0.24->segmentation-models-pytorch) (3.19.1)\r\n",
      "Requirement already satisfied: fsspec>=2023.5.0 in /usr/local/lib/python3.11/dist-packages (from huggingface-hub>=0.24->segmentation-models-pytorch) (2025.9.0)\r\n",
      "Requirement already satisfied: packaging>=20.9 in /usr/local/lib/python3.11/dist-packages (from huggingface-hub>=0.24->segmentation-models-pytorch) (25.0)\r\n",
      "Requirement already satisfied: pyyaml>=5.1 in /usr/local/lib/python3.11/dist-packages (from huggingface-hub>=0.24->segmentation-models-pytorch) (6.0.3)\r\n",
      "Requirement already satisfied: httpx<1,>=0.23.0 in /usr/local/lib/python3.11/dist-packages (from huggingface-hub>=0.24->segmentation-models-pytorch) (0.28.1)\r\n",
      "Requirement already satisfied: typer-slim in /usr/local/lib/python3.11/dist-packages (from huggingface-hub>=0.24->segmentation-models-pytorch) (0.19.2)\r\n",
      "Requirement already satisfied: typing-extensions>=3.7.4.3 in /usr/local/lib/python3.11/dist-packages (from huggingface-hub>=0.24->segmentation-models-pytorch) (4.15.0)\r\n",
      "Requirement already satisfied: hf-xet<2.0.0,>=1.1.3 in /usr/local/lib/python3.11/dist-packages (from huggingface-hub>=0.24->segmentation-models-pytorch) (1.1.10)\r\n",
      "Requirement already satisfied: mkl_fft in /usr/local/lib/python3.11/dist-packages (from numpy>=1.19.3->segmentation-models-pytorch) (1.3.8)\r\n",
      "Requirement already satisfied: mkl_random in /usr/local/lib/python3.11/dist-packages (from numpy>=1.19.3->segmentation-models-pytorch) (1.2.4)\r\n",
      "Requirement already satisfied: mkl_umath in /usr/local/lib/python3.11/dist-packages (from numpy>=1.19.3->segmentation-models-pytorch) (0.1.1)\r\n",
      "Requirement already satisfied: mkl in /usr/local/lib/python3.11/dist-packages (from numpy>=1.19.3->segmentation-models-pytorch) (2025.2.0)\r\n",
      "Requirement already satisfied: tbb4py in /usr/local/lib/python3.11/dist-packages (from numpy>=1.19.3->segmentation-models-pytorch) (2022.2.0)\r\n",
      "Requirement already satisfied: mkl-service in /usr/local/lib/python3.11/dist-packages (from numpy>=1.19.3->segmentation-models-pytorch) (2.4.1)\r\n",
      "Requirement already satisfied: networkx in /usr/local/lib/python3.11/dist-packages (from torch>=1.8->segmentation-models-pytorch) (3.5)\r\n",
      "Requirement already satisfied: jinja2 in /usr/local/lib/python3.11/dist-packages (from torch>=1.8->segmentation-models-pytorch) (3.1.6)\r\n",
      "Collecting nvidia-cuda-nvrtc-cu12==12.4.127 (from torch>=1.8->segmentation-models-pytorch)\r\n",
      "  Downloading nvidia_cuda_nvrtc_cu12-12.4.127-py3-none-manylinux2014_x86_64.whl.metadata (1.5 kB)\r\n",
      "Collecting nvidia-cuda-runtime-cu12==12.4.127 (from torch>=1.8->segmentation-models-pytorch)\r\n",
      "  Downloading nvidia_cuda_runtime_cu12-12.4.127-py3-none-manylinux2014_x86_64.whl.metadata (1.5 kB)\r\n",
      "Collecting nvidia-cuda-cupti-cu12==12.4.127 (from torch>=1.8->segmentation-models-pytorch)\r\n",
      "  Downloading nvidia_cuda_cupti_cu12-12.4.127-py3-none-manylinux2014_x86_64.whl.metadata (1.6 kB)\r\n",
      "Collecting nvidia-cudnn-cu12==9.1.0.70 (from torch>=1.8->segmentation-models-pytorch)\r\n",
      "  Downloading nvidia_cudnn_cu12-9.1.0.70-py3-none-manylinux2014_x86_64.whl.metadata (1.6 kB)\r\n",
      "Collecting nvidia-cublas-cu12==12.4.5.8 (from torch>=1.8->segmentation-models-pytorch)\r\n",
      "  Downloading nvidia_cublas_cu12-12.4.5.8-py3-none-manylinux2014_x86_64.whl.metadata (1.5 kB)\r\n",
      "Collecting nvidia-cufft-cu12==11.2.1.3 (from torch>=1.8->segmentation-models-pytorch)\r\n",
      "  Downloading nvidia_cufft_cu12-11.2.1.3-py3-none-manylinux2014_x86_64.whl.metadata (1.5 kB)\r\n",
      "Collecting nvidia-curand-cu12==10.3.5.147 (from torch>=1.8->segmentation-models-pytorch)\r\n",
      "  Downloading nvidia_curand_cu12-10.3.5.147-py3-none-manylinux2014_x86_64.whl.metadata (1.5 kB)\r\n",
      "Collecting nvidia-cusolver-cu12==11.6.1.9 (from torch>=1.8->segmentation-models-pytorch)\r\n",
      "  Downloading nvidia_cusolver_cu12-11.6.1.9-py3-none-manylinux2014_x86_64.whl.metadata (1.6 kB)\r\n",
      "Collecting nvidia-cusparse-cu12==12.3.1.170 (from torch>=1.8->segmentation-models-pytorch)\r\n",
      "  Downloading nvidia_cusparse_cu12-12.3.1.170-py3-none-manylinux2014_x86_64.whl.metadata (1.6 kB)\r\n",
      "Requirement already satisfied: nvidia-cusparselt-cu12==0.6.2 in /usr/local/lib/python3.11/dist-packages (from torch>=1.8->segmentation-models-pytorch) (0.6.2)\r\n",
      "Requirement already satisfied: nvidia-nccl-cu12==2.21.5 in /usr/local/lib/python3.11/dist-packages (from torch>=1.8->segmentation-models-pytorch) (2.21.5)\r\n",
      "Requirement already satisfied: nvidia-nvtx-cu12==12.4.127 in /usr/local/lib/python3.11/dist-packages (from torch>=1.8->segmentation-models-pytorch) (12.4.127)\r\n",
      "Collecting nvidia-nvjitlink-cu12==12.4.127 (from torch>=1.8->segmentation-models-pytorch)\r\n",
      "  Downloading nvidia_nvjitlink_cu12-12.4.127-py3-none-manylinux2014_x86_64.whl.metadata (1.5 kB)\r\n",
      "Requirement already satisfied: triton==3.2.0 in /usr/local/lib/python3.11/dist-packages (from torch>=1.8->segmentation-models-pytorch) (3.2.0)\r\n",
      "Requirement already satisfied: sympy==1.13.1 in /usr/local/lib/python3.11/dist-packages (from torch>=1.8->segmentation-models-pytorch) (1.13.1)\r\n",
      "Requirement already satisfied: mpmath<1.4,>=1.1.0 in /usr/local/lib/python3.11/dist-packages (from sympy==1.13.1->torch>=1.8->segmentation-models-pytorch) (1.3.0)\r\n",
      "Requirement already satisfied: anyio in /usr/local/lib/python3.11/dist-packages (from httpx<1,>=0.23.0->huggingface-hub>=0.24->segmentation-models-pytorch) (4.11.0)\r\n",
      "Requirement already satisfied: certifi in /usr/local/lib/python3.11/dist-packages (from httpx<1,>=0.23.0->huggingface-hub>=0.24->segmentation-models-pytorch) (2025.8.3)\r\n",
      "Requirement already satisfied: httpcore==1.* in /usr/local/lib/python3.11/dist-packages (from httpx<1,>=0.23.0->huggingface-hub>=0.24->segmentation-models-pytorch) (1.0.9)\r\n",
      "Requirement already satisfied: idna in /usr/local/lib/python3.11/dist-packages (from httpx<1,>=0.23.0->huggingface-hub>=0.24->segmentation-models-pytorch) (3.10)\r\n",
      "Requirement already satisfied: h11>=0.16 in /usr/local/lib/python3.11/dist-packages (from httpcore==1.*->httpx<1,>=0.23.0->huggingface-hub>=0.24->segmentation-models-pytorch) (0.16.0)\r\n",
      "Requirement already satisfied: MarkupSafe>=2.0 in /usr/local/lib/python3.11/dist-packages (from jinja2->torch>=1.8->segmentation-models-pytorch) (3.0.2)\r\n",
      "Requirement already satisfied: intel-openmp<2026,>=2024 in /usr/local/lib/python3.11/dist-packages (from mkl->numpy>=1.19.3->segmentation-models-pytorch) (2024.2.0)\r\n",
      "Requirement already satisfied: tbb==2022.* in /usr/local/lib/python3.11/dist-packages (from mkl->numpy>=1.19.3->segmentation-models-pytorch) (2022.2.0)\r\n",
      "Requirement already satisfied: tcmlib==1.* in /usr/local/lib/python3.11/dist-packages (from tbb==2022.*->mkl->numpy>=1.19.3->segmentation-models-pytorch) (1.4.0)\r\n",
      "Requirement already satisfied: intel-cmplr-lib-rt in /usr/local/lib/python3.11/dist-packages (from mkl_umath->numpy>=1.19.3->segmentation-models-pytorch) (2024.2.0)\r\n",
      "Requirement already satisfied: click>=8.0.0 in /usr/local/lib/python3.11/dist-packages (from typer-slim->huggingface-hub>=0.24->segmentation-models-pytorch) (8.3.0)\r\n",
      "Requirement already satisfied: intel-cmplr-lib-ur==2024.2.0 in /usr/local/lib/python3.11/dist-packages (from intel-openmp<2026,>=2024->mkl->numpy>=1.19.3->segmentation-models-pytorch) (2024.2.0)\r\n",
      "Requirement already satisfied: sniffio>=1.1 in /usr/local/lib/python3.11/dist-packages (from anyio->httpx<1,>=0.23.0->huggingface-hub>=0.24->segmentation-models-pytorch) (1.3.1)\r\n",
      "Downloading segmentation_models_pytorch-0.5.0-py3-none-any.whl (154 kB)\r\n",
      "\u001b[2K   \u001b[90m━━━━━━━━━━━━━━━━━━━━━━━━━━━━━━━━━━━━━━━━\u001b[0m \u001b[32m154.8/154.8 kB\u001b[0m \u001b[31m5.3 MB/s\u001b[0m eta \u001b[36m0:00:00\u001b[0m\r\n",
      "\u001b[?25hDownloading nvidia_cublas_cu12-12.4.5.8-py3-none-manylinux2014_x86_64.whl (363.4 MB)\r\n",
      "\u001b[2K   \u001b[90m━━━━━━━━━━━━━━━━━━━━━━━━━━━━━━━━━━━━━━━━\u001b[0m \u001b[32m363.4/363.4 MB\u001b[0m \u001b[31m3.6 MB/s\u001b[0m eta \u001b[36m0:00:00\u001b[0m\r\n",
      "\u001b[?25hDownloading nvidia_cuda_cupti_cu12-12.4.127-py3-none-manylinux2014_x86_64.whl (13.8 MB)\r\n",
      "\u001b[2K   \u001b[90m━━━━━━━━━━━━━━━━━━━━━━━━━━━━━━━━━━━━━━━━\u001b[0m \u001b[32m13.8/13.8 MB\u001b[0m \u001b[31m103.1 MB/s\u001b[0m eta \u001b[36m0:00:00\u001b[0m\r\n",
      "\u001b[?25hDownloading nvidia_cuda_nvrtc_cu12-12.4.127-py3-none-manylinux2014_x86_64.whl (24.6 MB)\r\n",
      "\u001b[2K   \u001b[90m━━━━━━━━━━━━━━━━━━━━━━━━━━━━━━━━━━━━━━━━\u001b[0m \u001b[32m24.6/24.6 MB\u001b[0m \u001b[31m77.8 MB/s\u001b[0m eta \u001b[36m0:00:00\u001b[0m\r\n",
      "\u001b[?25hDownloading nvidia_cuda_runtime_cu12-12.4.127-py3-none-manylinux2014_x86_64.whl (883 kB)\r\n",
      "\u001b[2K   \u001b[90m━━━━━━━━━━━━━━━━━━━━━━━━━━━━━━━━━━━━━━━━\u001b[0m \u001b[32m883.7/883.7 kB\u001b[0m \u001b[31m40.9 MB/s\u001b[0m eta \u001b[36m0:00:00\u001b[0m\r\n",
      "\u001b[?25hDownloading nvidia_cudnn_cu12-9.1.0.70-py3-none-manylinux2014_x86_64.whl (664.8 MB)\r\n",
      "\u001b[2K   \u001b[90m━━━━━━━━━━━━━━━━━━━━━━━━━━━━━━━━━━━━━━━\u001b[0m \u001b[32m664.8/664.8 MB\u001b[0m \u001b[31m818.6 kB/s\u001b[0m eta \u001b[36m0:00:00\u001b[0m\r\n",
      "\u001b[?25hDownloading nvidia_cufft_cu12-11.2.1.3-py3-none-manylinux2014_x86_64.whl (211.5 MB)\r\n",
      "\u001b[2K   \u001b[90m━━━━━━━━━━━━━━━━━━━━━━━━━━━━━━━━━━━━━━━━\u001b[0m \u001b[32m211.5/211.5 MB\u001b[0m \u001b[31m7.2 MB/s\u001b[0m eta \u001b[36m0:00:00\u001b[0m\r\n",
      "\u001b[?25hDownloading nvidia_curand_cu12-10.3.5.147-py3-none-manylinux2014_x86_64.whl (56.3 MB)\r\n",
      "\u001b[2K   \u001b[90m━━━━━━━━━━━━━━━━━━━━━━━━━━━━━━━━━━━━━━━━\u001b[0m \u001b[32m56.3/56.3 MB\u001b[0m \u001b[31m9.5 MB/s\u001b[0m eta \u001b[36m0:00:00\u001b[0m\r\n",
      "\u001b[?25hDownloading nvidia_cusolver_cu12-11.6.1.9-py3-none-manylinux2014_x86_64.whl (127.9 MB)\r\n",
      "\u001b[2K   \u001b[90m━━━━━━━━━━━━━━━━━━━━━━━━━━━━━━━━━━━━━━━━\u001b[0m \u001b[32m127.9/127.9 MB\u001b[0m \u001b[31m14.0 MB/s\u001b[0m eta \u001b[36m0:00:00\u001b[0m\r\n",
      "\u001b[?25hDownloading nvidia_cusparse_cu12-12.3.1.170-py3-none-manylinux2014_x86_64.whl (207.5 MB)\r\n",
      "\u001b[2K   \u001b[90m━━━━━━━━━━━━━━━━━━━━━━━━━━━━━━━━━━━━━━━━\u001b[0m \u001b[32m207.5/207.5 MB\u001b[0m \u001b[31m8.2 MB/s\u001b[0m eta \u001b[36m0:00:00\u001b[0m\r\n",
      "\u001b[?25hDownloading nvidia_nvjitlink_cu12-12.4.127-py3-none-manylinux2014_x86_64.whl (21.1 MB)\r\n",
      "\u001b[2K   \u001b[90m━━━━━━━━━━━━━━━━━━━━━━━━━━━━━━━━━━━━━━━━\u001b[0m \u001b[32m21.1/21.1 MB\u001b[0m \u001b[31m51.4 MB/s\u001b[0m eta \u001b[36m0:00:00\u001b[0m\r\n",
      "\u001b[?25hInstalling collected packages: nvidia-nvjitlink-cu12, nvidia-curand-cu12, nvidia-cufft-cu12, nvidia-cuda-runtime-cu12, nvidia-cuda-nvrtc-cu12, nvidia-cuda-cupti-cu12, nvidia-cublas-cu12, nvidia-cusparse-cu12, nvidia-cudnn-cu12, nvidia-cusolver-cu12, segmentation-models-pytorch\r\n",
      "  Attempting uninstall: nvidia-nvjitlink-cu12\r\n",
      "    Found existing installation: nvidia-nvjitlink-cu12 12.5.82\r\n",
      "    Uninstalling nvidia-nvjitlink-cu12-12.5.82:\r\n",
      "      Successfully uninstalled nvidia-nvjitlink-cu12-12.5.82\r\n",
      "  Attempting uninstall: nvidia-curand-cu12\r\n",
      "    Found existing installation: nvidia-curand-cu12 10.3.6.82\r\n",
      "    Uninstalling nvidia-curand-cu12-10.3.6.82:\r\n",
      "      Successfully uninstalled nvidia-curand-cu12-10.3.6.82\r\n",
      "  Attempting uninstall: nvidia-cufft-cu12\r\n",
      "    Found existing installation: nvidia-cufft-cu12 11.2.3.61\r\n",
      "    Uninstalling nvidia-cufft-cu12-11.2.3.61:\r\n",
      "      Successfully uninstalled nvidia-cufft-cu12-11.2.3.61\r\n",
      "  Attempting uninstall: nvidia-cuda-runtime-cu12\r\n",
      "    Found existing installation: nvidia-cuda-runtime-cu12 12.5.82\r\n",
      "    Uninstalling nvidia-cuda-runtime-cu12-12.5.82:\r\n",
      "      Successfully uninstalled nvidia-cuda-runtime-cu12-12.5.82\r\n",
      "  Attempting uninstall: nvidia-cuda-nvrtc-cu12\r\n",
      "    Found existing installation: nvidia-cuda-nvrtc-cu12 12.5.82\r\n",
      "    Uninstalling nvidia-cuda-nvrtc-cu12-12.5.82:\r\n",
      "      Successfully uninstalled nvidia-cuda-nvrtc-cu12-12.5.82\r\n",
      "  Attempting uninstall: nvidia-cuda-cupti-cu12\r\n",
      "    Found existing installation: nvidia-cuda-cupti-cu12 12.5.82\r\n",
      "    Uninstalling nvidia-cuda-cupti-cu12-12.5.82:\r\n",
      "      Successfully uninstalled nvidia-cuda-cupti-cu12-12.5.82\r\n",
      "  Attempting uninstall: nvidia-cublas-cu12\r\n",
      "    Found existing installation: nvidia-cublas-cu12 12.5.3.2\r\n",
      "    Uninstalling nvidia-cublas-cu12-12.5.3.2:\r\n",
      "      Successfully uninstalled nvidia-cublas-cu12-12.5.3.2\r\n",
      "  Attempting uninstall: nvidia-cusparse-cu12\r\n",
      "    Found existing installation: nvidia-cusparse-cu12 12.5.1.3\r\n",
      "    Uninstalling nvidia-cusparse-cu12-12.5.1.3:\r\n",
      "      Successfully uninstalled nvidia-cusparse-cu12-12.5.1.3\r\n",
      "  Attempting uninstall: nvidia-cudnn-cu12\r\n",
      "    Found existing installation: nvidia-cudnn-cu12 9.3.0.75\r\n",
      "    Uninstalling nvidia-cudnn-cu12-9.3.0.75:\r\n",
      "      Successfully uninstalled nvidia-cudnn-cu12-9.3.0.75\r\n",
      "  Attempting uninstall: nvidia-cusolver-cu12\r\n",
      "    Found existing installation: nvidia-cusolver-cu12 11.6.3.83\r\n",
      "    Uninstalling nvidia-cusolver-cu12-11.6.3.83:\r\n",
      "      Successfully uninstalled nvidia-cusolver-cu12-11.6.3.83\r\n",
      "\u001b[31mERROR: pip's dependency resolver does not currently take into account all the packages that are installed. This behaviour is the source of the following dependency conflicts.\r\n",
      "libcugraph-cu12 25.6.0 requires libraft-cu12==25.6.*, but you have libraft-cu12 25.2.0 which is incompatible.\r\n",
      "pylibcugraph-cu12 25.6.0 requires pylibraft-cu12==25.6.*, but you have pylibraft-cu12 25.2.0 which is incompatible.\r\n",
      "pylibcugraph-cu12 25.6.0 requires rmm-cu12==25.6.*, but you have rmm-cu12 25.2.0 which is incompatible.\u001b[0m\u001b[31m\r\n",
      "\u001b[0mSuccessfully installed nvidia-cublas-cu12-12.4.5.8 nvidia-cuda-cupti-cu12-12.4.127 nvidia-cuda-nvrtc-cu12-12.4.127 nvidia-cuda-runtime-cu12-12.4.127 nvidia-cudnn-cu12-9.1.0.70 nvidia-cufft-cu12-11.2.1.3 nvidia-curand-cu12-10.3.5.147 nvidia-cusolver-cu12-11.6.1.9 nvidia-cusparse-cu12-12.3.1.170 nvidia-nvjitlink-cu12-12.4.127 segmentation-models-pytorch-0.5.0\r\n"
     ]
    }
   ],
   "source": [
    "!pip install -U segmentation-models-pytorch"
   ]
  },
  {
   "cell_type": "code",
   "execution_count": 4,
   "id": "793f6905",
   "metadata": {
    "execution": {
     "iopub.execute_input": "2025-10-11T23:21:24.757138Z",
     "iopub.status.busy": "2025-10-11T23:21:24.756624Z",
     "iopub.status.idle": "2025-10-11T23:21:38.060456Z",
     "shell.execute_reply": "2025-10-11T23:21:38.059490Z"
    },
    "papermill": {
     "duration": 13.352797,
     "end_time": "2025-10-11T23:21:38.061738",
     "exception": false,
     "start_time": "2025-10-11T23:21:24.708941",
     "status": "completed"
    },
    "tags": []
   },
   "outputs": [
    {
     "name": "stderr",
     "output_type": "stream",
     "text": [
      "/usr/local/lib/python3.11/dist-packages/pydantic/_internal/_generate_schema.py:2225: UnsupportedFieldAttributeWarning: The 'repr' attribute with value False was provided to the `Field()` function, which has no effect in the context it was used. 'repr' is field-specific metadata, and can only be attached to a model field using `Annotated` metadata or by assignment. This may have happened because an `Annotated` type alias using the `type` statement was used, or if the `Field()` function was attached to a single member of a union type.\n",
      "  warnings.warn(\n",
      "/usr/local/lib/python3.11/dist-packages/pydantic/_internal/_generate_schema.py:2225: UnsupportedFieldAttributeWarning: The 'frozen' attribute with value True was provided to the `Field()` function, which has no effect in the context it was used. 'frozen' is field-specific metadata, and can only be attached to a model field using `Annotated` metadata or by assignment. This may have happened because an `Annotated` type alias using the `type` statement was used, or if the `Field()` function was attached to a single member of a union type.\n",
      "  warnings.warn(\n"
     ]
    },
    {
     "name": "stdout",
     "output_type": "stream",
     "text": [
      "cuda\n"
     ]
    }
   ],
   "source": [
    "import numpy as np\n",
    "import os\n",
    "from enum import IntEnum\n",
    "import torch\n",
    "from torch import Tensor\n",
    "import torch.nn as nn\n",
    "import segmentation_models_pytorch as smp\n",
    "from typing import Optional, Callable, Union, Tuple, Dict, List\n",
    "import json\n",
    "from pathlib import Path\n",
    "from torch.utils.data import Dataset, DataLoader, SubsetRandomSampler\n",
    "from torchvision import transforms\n",
    "from torchvision.transforms import v2\n",
    "from tqdm import tqdm\n",
    "from PIL import Image\n",
    "import matplotlib.pyplot as plt\n",
    "device = torch.device(\"cuda\" if torch.cuda.is_available() else \"cpu\")\n",
    "print(device)"
   ]
  },
  {
   "cell_type": "code",
   "execution_count": 5,
   "id": "cb356cf2",
   "metadata": {
    "execution": {
     "iopub.execute_input": "2025-10-11T23:21:38.155530Z",
     "iopub.status.busy": "2025-10-11T23:21:38.154748Z",
     "iopub.status.idle": "2025-10-11T23:21:38.163854Z",
     "shell.execute_reply": "2025-10-11T23:21:38.163082Z"
    },
    "papermill": {
     "duration": 0.057123,
     "end_time": "2025-10-11T23:21:38.165063",
     "exception": false,
     "start_time": "2025-10-11T23:21:38.107940",
     "status": "completed"
    },
    "tags": []
   },
   "outputs": [],
   "source": [
    "\"\"\"\n",
    "Source: https://github.com/hendrycks/anomaly-seg/issues/15#issuecomment-890300278\n",
    "\"\"\"\n",
    "COLORS = np.array([\n",
    "    [ 70,  70,  70],  # building     =   0,\n",
    "    [190, 153, 153],  # fence        =   1, \n",
    "    [250, 170, 160],  # other        =   2,\n",
    "    [220,  20,  60],  # pedestrian   =   3, \n",
    "    [153, 153, 153],  # pole         =   4,\n",
    "    [157, 234,  50],  # road line    =   5, \n",
    "    [128,  64, 128],  # road         =   6,\n",
    "    [244,  35, 232],  # sidewalk     =   7,\n",
    "    [107, 142,  35],  # vegetation   =   8, \n",
    "    [  0,   0, 142],  # car          =   9,\n",
    "    [102, 102, 156],  # wall         =  10, \n",
    "    [220, 220,   0],  # traffic sign =  11,\n",
    "    [ 60, 250, 240],  # anomaly      =  12,\n",
    "]) \n",
    "\n",
    "\n",
    "def visualize_annotation(annotation_img: np.ndarray | torch.Tensor, ax=None, title= None) -> None:\n",
    "    \"\"\"\n",
    "    Visualize a segmentation annotation using a predefined color palette.\n",
    "\n",
    "    Args:\n",
    "        annotation_img (np.ndarray | torch.Tensor): 2D array with class indices.\n",
    "        ax (matplotlib.axes.Axes, optional): Axis to plot on. If None, uses current axis.\n",
    "    \"\"\"\n",
    "    if ax is None: ax = plt.gca()\n",
    "    annotation_img = np.asarray(annotation_img)\n",
    "    img_new = np.zeros((*annotation_img.shape, 3))\n",
    "\n",
    "    for index, color in enumerate(COLORS):\n",
    "        img_new[annotation_img == index] = color\n",
    "\n",
    "    ax.imshow(img_new / 255.0)\n",
    "    if title:\n",
    "        ax.set_title(title)\n",
    "    ax.set_xticks([])\n",
    "    ax.set_yticks([])\n",
    "\n",
    "def visualize_scene(image: np.ndarray | torch.Tensor, ax=None, title= None) -> None:\n",
    "    \"\"\"\n",
    "    Visualize a raw RGB scene image.\n",
    "\n",
    "    Args:\n",
    "        image (np.ndarray | torch.Tensor): Image tensor or array in [C, H, W] or [H, W, C] format.\n",
    "        ax (matplotlib.axes.Axes, optional): Axis to plot on. If None, uses current axis.\n",
    "    \"\"\"\n",
    "    if ax is None: ax = plt.gca()\n",
    "    image = np.asarray(image)\n",
    "    ax.imshow(np.moveaxis(image, 0, -1))\n",
    "    if title:\n",
    "        ax.set_title(title)\n",
    "    ax.set_xticks([])\n",
    "    ax.set_yticks([])\n",
    "\n",
    "\n",
    "class StreetHazardsClasses(IntEnum):\n",
    "    BUILDING        = 0\n",
    "    FENCE           = 1\n",
    "    OTHER           = 2\n",
    "    PEDESTRIAN      = 3\n",
    "    POLE            = 4\n",
    "    ROAD_LINE       = 5\n",
    "    ROAD            = 6\n",
    "    SIDEWALK        = 7\n",
    "    VEGETATION      = 8\n",
    "    CAR             = 9\n",
    "    WALL            = 10\n",
    "    TRAFFIC_SIGN    = 11\n",
    "    ANOMALY         = 12\n",
    "    \n",
    "#path to streethazards dataset\n",
    "train_odgt_file = f\"{DATA_DIR}/streethazards_train/train.odgt\"\n",
    "val_odgt_file = f\"{DATA_DIR}/streethazards_train/validation.odgt\"\n",
    "test_odgt_file = f\"{DATA_DIR}/streethazards_test/test.odgt\"\n",
    "\n",
    "COMPUTE_MEAN_STD = False"
   ]
  },
  {
   "cell_type": "code",
   "execution_count": 6,
   "id": "48b93c4f",
   "metadata": {
    "execution": {
     "iopub.execute_input": "2025-10-11T23:21:38.257942Z",
     "iopub.status.busy": "2025-10-11T23:21:38.257689Z",
     "iopub.status.idle": "2025-10-11T23:21:38.265789Z",
     "shell.execute_reply": "2025-10-11T23:21:38.265221Z"
    },
    "papermill": {
     "duration": 0.055859,
     "end_time": "2025-10-11T23:21:38.266895",
     "exception": false,
     "start_time": "2025-10-11T23:21:38.211036",
     "status": "completed"
    },
    "tags": []
   },
   "outputs": [],
   "source": [
    "class StreetHazardsDataset(Dataset):\n",
    "    \"\"\"\n",
    "    A custom PyTorch Dataset for the StreetHazards inliner dataset.\n",
    "\n",
    "    This dataset reads image and segmentation label paths from a `.odgt` file,\n",
    "    applies optional resizing and spatial transformations, and returns\n",
    "    dictionary-style samples with normalized image tensors and label tensors.\n",
    "\n",
    "    Args:\n",
    "        odgt_file (str): Path to the `.odgt` file containing image and label metadata.\n",
    "        image_resize (Tuple[int, int], optional): Target size to resize images and labels. \n",
    "        spatial_transforms (Callable, optional): Optional transformation function applied to both images and labels.\n",
    "        mean_std (Tuple[List[float], List[float]], optional): Mean and standard deviation for image normalization.\n",
    "        \n",
    "    \"\"\"\n",
    "    def __init__(\n",
    "        self,\n",
    "        odgt_file: str,\n",
    "        image_resize: Tuple[int, int] = (512, 896),\n",
    "        spatial_transforms: Optional[Callable] = None,\n",
    "        mean_std: Tuple[List[float], List[float]] = None\n",
    "    ):\n",
    "\n",
    "        self.spatial_transforms = spatial_transforms\n",
    "        self.mean_std = mean_std\n",
    "        self.image_resize = image_resize\n",
    "\n",
    "        with open(odgt_file, \"r\") as f:\n",
    "            odgt_data = json.load(f)\n",
    "        \n",
    "\n",
    "        self.paths = [\n",
    "            {\n",
    "                \"image\": os.path.join(Path(odgt_file).parent, data[\"fpath_img\"]),\n",
    "                \"labels\": os.path.join(Path(odgt_file).parent, data[\"fpath_segm\"]),\n",
    "            }\n",
    "            for data in odgt_data \n",
    "        ]\n",
    "    \n",
    "    def __len__(self) -> int:\n",
    "        return len(self.paths)\n",
    "\n",
    "    def __getitem__(self, idx: int) -> Dict[str, torch.Tensor]:\n",
    "\n",
    "        image = Image.open(self.paths[idx][\"image\"]).convert(\"RGB\")\n",
    "        labels = Image.open(self.paths[idx][\"labels\"])\n",
    "\n",
    "        if self.image_resize:\n",
    "            image = transforms.Resize(self.image_resize, transforms.InterpolationMode.BILINEAR)(image)\n",
    "            labels = transforms.Resize(self.image_resize, transforms.InterpolationMode.NEAREST)(labels)\n",
    "            \n",
    "        if self.spatial_transforms:\n",
    "            image, labels  = self.spatial_transforms(image, labels)         \n",
    "\n",
    "        #to_tensor\n",
    "        image = transforms.ToTensor()(image)\n",
    "        labels = torch.as_tensor(transforms.functional.pil_to_tensor(labels), dtype=torch.int64) - 1\n",
    "        \n",
    "        labels = labels.squeeze(0)\n",
    "        \n",
    "        if self.mean_std:\n",
    "            image = transforms.Normalize(mean = self.mean_std[0], std = self.mean_std[1])(image)\n",
    "\n",
    "        return {'image' : image, 'labels' : labels}"
   ]
  },
  {
   "cell_type": "code",
   "execution_count": 7,
   "id": "987bbc18",
   "metadata": {
    "execution": {
     "iopub.execute_input": "2025-10-11T23:21:38.361200Z",
     "iopub.status.busy": "2025-10-11T23:21:38.360934Z",
     "iopub.status.idle": "2025-10-11T23:21:38.370261Z",
     "shell.execute_reply": "2025-10-11T23:21:38.369722Z"
    },
    "papermill": {
     "duration": 0.056927,
     "end_time": "2025-10-11T23:21:38.371483",
     "exception": false,
     "start_time": "2025-10-11T23:21:38.314556",
     "status": "completed"
    },
    "tags": []
   },
   "outputs": [],
   "source": [
    "def create_one_hot_prototypes_torch(num_known_classes: int, t_value: float = 3.0, device: str = 'cpu') -> torch.Tensor:\n",
    "    \"\"\"\n",
    "    Generates one-hot prototypes as a PyTorch tensor for a given number of known classes.\n",
    "    Each prototype is a vector where only the element corresponding\n",
    "    to its class index has the 't_value', and all other elements are 0.\n",
    "\n",
    "    Args:\n",
    "        num_known_classes (int): The total number of known (in-distribution) classes.\n",
    "                                 This also determines the dimensionality of each prototype vector.\n",
    "        t_value (float): The non-zero value at the class's specific index in the prototype.\n",
    "                         As specified in the paper, this is often 3.0.\n",
    "        device (str): The device on which to create the tensor ('cpu' or 'cuda').\n",
    "\n",
    "    Returns:\n",
    "        torch.Tensor: A 2D PyTorch tensor where each row is a prototype vector.\n",
    "                      The shape will be (num_known_classes, num_known_classes).\n",
    "    \"\"\"\n",
    "    if not isinstance(num_known_classes, int) or num_known_classes <= 0:\n",
    "        raise ValueError(\"num_known_classes must be a positive integer.\")\n",
    "    if not isinstance(t_value, (int, float)):\n",
    "        raise ValueError(\"t_value must be a numeric type.\")\n",
    "    if device not in ['cpu', 'cuda']:\n",
    "        raise ValueError(\"device must be 'cpu' or 'cuda'.\")\n",
    "\n",
    "    # Create a tensor of zeros\n",
    "    prototypes = torch.zeros((num_known_classes, num_known_classes), dtype=torch.float32, device=device)\n",
    "\n",
    "    # Fill the diagonal with t_value to create one-hot prototypes\n",
    "    for i in range(num_known_classes):\n",
    "        prototypes[i, i] = t_value\n",
    "        \n",
    "    # An even more concise way using torch.eye (Identity matrix)\n",
    "    # prototypes = torch.eye(num_known_classes, dtype=torch.float32, device=device) * t_value\n",
    "\n",
    "    return prototypes\n",
    "\n",
    "Prototype  = create_one_hot_prototypes_torch(13)"
   ]
  },
  {
   "cell_type": "code",
   "execution_count": 8,
   "id": "85ba0605",
   "metadata": {
    "execution": {
     "iopub.execute_input": "2025-10-11T23:21:38.465368Z",
     "iopub.status.busy": "2025-10-11T23:21:38.465093Z",
     "iopub.status.idle": "2025-10-11T23:21:38.471720Z",
     "shell.execute_reply": "2025-10-11T23:21:38.471173Z"
    },
    "papermill": {
     "duration": 0.05456,
     "end_time": "2025-10-11T23:21:38.472862",
     "exception": false,
     "start_time": "2025-10-11T23:21:38.418302",
     "status": "completed"
    },
    "tags": []
   },
   "outputs": [],
   "source": [
    "\n",
    "class DMLNetFeatureExtractor(torch.nn.Module):\n",
    "    def __init__(self, encoder_name, encoder_weights, num_feature_channels, activation):\n",
    "        super().__init__()\n",
    "        \n",
    "\n",
    "        self.model = smp.DeepLabV3Plus(\n",
    "            encoder_name=encoder_name,\n",
    "            encoder_weights=encoder_weights,\n",
    "            classes=num_feature_channels, # This sets the output channels of the segmentation_head if kept\n",
    "            activation=activation # Usually 'None' for the main head, but for features it might not matter directly\n",
    "        )\n",
    "        \n",
    "\n",
    "        # Option 2 is safer and more robust.\n",
    "        # First, we disable the original segmentation head as you did.\n",
    "        self.original_segmentation_head = self.model.segmentation_head # Store it if needed\n",
    "        self.model.segmentation_head = torch.nn.Identity() # Remove the final head\n",
    "\n",
    "        # --- CORRECTION START ---\n",
    "        # To get the decoder's actual output channels, we need a dummy forward pass\n",
    "        # through just the encoder and decoder.\n",
    "        \n",
    "        # Temporarily detach the module to make a dummy pass if needed,\n",
    "        # but in __init__, we can usually just do a conceptual forward.\n",
    "        # However, to be absolutely safe and get the runtime channel count:\n",
    "        \n",
    "        # Create a dummy input to trace the decoder output channels\n",
    "        # Assuming typical RGB input (3 channels) and arbitrary spatial dimensions\n",
    "        dummy_input = torch.randn(2, 3, 256, 256) \n",
    "        \n",
    "        # Pass through encoder\n",
    "        encoder_features_dummy = self.model.encoder(dummy_input)\n",
    "        \n",
    "        # Pass through decoder to get its output channels\n",
    "        decoder_output_dummy = self.model.decoder(encoder_features_dummy)\n",
    "        \n",
    "        # Extract the channel dimension from the dummy output\n",
    "        decoder_actual_out_channels = decoder_output_dummy.shape[1]\n",
    "        # --- CORRECTION END ---\n",
    "\n",
    "        # Add a 1x1 convolution to project the decoder's output to the desired num_feature_channels.\n",
    "        self.feature_projection = torch.nn.Conv2d(\n",
    "            in_channels=decoder_actual_out_channels,\n",
    "            out_channels=num_feature_channels,\n",
    "            kernel_size=1,\n",
    "            stride=1,\n",
    "            padding=0\n",
    "        )\n",
    "        \n",
    "    def forward(self, x):\n",
    "        input_spatial_size = x.shape[2:]\n",
    "        # The encoder outputs a list of feature maps at different resolutions\n",
    "        encoder_features = self.model.encoder(x)\n",
    "        \n",
    "        # The decoder takes these features and produces a high-resolution feature map.\n",
    "        # This output will typically have the same spatial dimensions as the input 'x'\n",
    "        # (due to DeepLabV3+ decoder's upsampling) but with its default channel count.\n",
    "        decoder_output = self.model.decoder(encoder_features)\n",
    "        \n",
    "        # Project the decoder's output to the desired number of feature channels\n",
    "        projected_features = self.feature_projection(decoder_output)\n",
    "\n",
    "        final_features = torch.nn.functional.interpolate(\n",
    "            projected_features, \n",
    "            size=input_spatial_size, \n",
    "            mode='bilinear', \n",
    "            align_corners=False # Set to True for pixel alignment if needed, but False is common\n",
    "        )\n",
    "        \n",
    "        # These `final_features` are your f(X; θf)i,j with num_feature_channels.\n",
    "        return final_features"
   ]
  },
  {
   "cell_type": "code",
   "execution_count": 9,
   "id": "aa054852",
   "metadata": {
    "execution": {
     "iopub.execute_input": "2025-10-11T23:21:38.568478Z",
     "iopub.status.busy": "2025-10-11T23:21:38.568161Z",
     "iopub.status.idle": "2025-10-11T23:21:38.575123Z",
     "shell.execute_reply": "2025-10-11T23:21:38.574616Z"
    },
    "papermill": {
     "duration": 0.057878,
     "end_time": "2025-10-11T23:21:38.576113",
     "exception": false,
     "start_time": "2025-10-11T23:21:38.518235",
     "status": "completed"
    },
    "tags": []
   },
   "outputs": [],
   "source": [
    "class DiscriminativeCrossEntropyLoss(nn.Module):\n",
    "    def __init__(self, prototypes: torch.Tensor,lambda_weight):\n",
    "        super().__init__()\n",
    "       \n",
    "        self.prototypes = prototypes.to(device)\n",
    "        self.lambda_weight = lambda_weight\n",
    "\n",
    "    def forward(self, pixel_features: torch.Tensor, target_labels: torch.Tensor):\n",
    "        # pixel_features: (B, D, H, W)\n",
    "        # target_labels: (B, H, W)\n",
    "\n",
    "        # Reshape pixel_features for easier broadcasting with prototypes\n",
    "        # (B, D, H, W) -> (B, H, W, D)\n",
    "        pixel_features_reshaped = pixel_features.permute(0, 2, 3, 1) # (B, H, W, D)\n",
    "\n",
    "        # Expand target_labels to match the feature dimension for indexing prototypes\n",
    "        # (B, H, W) -> (B, H, W, D)\n",
    "        prototypes_target = self.prototypes[target_labels] # This should now be (B, H, W, D)\n",
    "\n",
    "        # --- Numerator (Attractive Force) ---\n",
    "        # ||f(X; θf)i,j – mY i,j ||²\n",
    "        # (B, H, W, D) - (B, H, W, D) -> (B, H, W, D)\n",
    "        difference_numerator = pixel_features_reshaped - prototypes_target\n",
    "        # (B, H, W, D) -> (B, H, W)\n",
    "        squared_diff_numerator = torch.sum(difference_numerator.pow(2), dim=-1)\n",
    "        exp_squared_diff_numerator = torch.exp(-squared_diff_numerator)\n",
    "\n",
    "        # --- Denominator (Repulsive Force) ---\n",
    "        # Σk=1 to N ( exp(-||f(X; θf)i,j – mk ||²) )\n",
    "        # To compute this, we need to calculate the squared difference for ALL prototypes\n",
    "        # and then sum their exponentials.\n",
    "\n",
    "        # Expand pixel_features to compare with all prototypes: (B, H, W, 1, D)\n",
    "        pixel_features_expanded = pixel_features_reshaped.unsqueeze(-2) # (B, H, W, 1, D)\n",
    "\n",
    "        # Expand prototypes to compare with all pixels: (1, 1, 1, N, D)\n",
    "        # self.prototypes has shape (N, D)\n",
    "        prototypes_expanded = self.prototypes.unsqueeze(0).unsqueeze(0).unsqueeze(0) # (1, 1, 1, N, D)\n",
    "\n",
    "        # Calculate difference between each pixel feature and ALL prototypes\n",
    "        # (B, H, W, 1, D) - (1, 1, 1, N, D) -> (B, H, W, N, D)\n",
    "        all_prototypes_differences = pixel_features_expanded - prototypes_expanded\n",
    "\n",
    "        # Square and sum across the feature dimension (D)\n",
    "        # (B, H, W, N, D) -> (B, H, W, N)\n",
    "        squared_diff_all_prototypes = torch.sum(all_prototypes_differences.pow(2), dim=-1)\n",
    "\n",
    "        # Exponentiate\n",
    "        # (B, H, W, N)\n",
    "        exp_squared_diff_all_prototypes = torch.exp(-squared_diff_all_prototypes)\n",
    "\n",
    "        # Sum across the prototype dimension (N) to get the denominator\n",
    "        # (B, H, W, N) -> (B, H, W)\n",
    "        denominator = torch.sum(exp_squared_diff_all_prototypes, dim=-1)\n",
    "\n",
    "        # --- Calculate Pt(Xi,j) (Equation 2) ---\n",
    "        # (B, H, W) / (B, H, W) -> (B, H, W)\n",
    "        pt_values = exp_squared_diff_numerator / (denominator + 1e-8) # Add small epsilon for stability\n",
    "\n",
    "        # --- Calculate LDCE (Equation 3) ---\n",
    "        # LDCE = -log(pt_values) for target classes\n",
    "        # This requires masking based on target_labels or using the pt_values directly\n",
    "        # The equation shows sum over i,j of -log(numerator/denominator) where numerator corresponds to Y_i,j\n",
    "\n",
    "        # Assuming Y_i,j is 1 for the target class at that pixel and 0 otherwise.\n",
    "        # This is essentially -log(Pt(Xi,j)) for the correct class, summed over all pixels.\n",
    "        ldce_loss = -torch.log(pt_values + 1e-8) # Add small epsilon for stability\n",
    "        ldce_loss = torch.sum(ldce_loss) # Or torch.sum() depending on how you want to aggregate\n",
    "\n",
    "        Lvl_loss = torch.sum(difference_numerator.pow(2))\n",
    "        \n",
    "        \n",
    "        return ldce_loss + self.lambda_weight * Lvl_loss\n",
    "       "
   ]
  },
  {
   "cell_type": "code",
   "execution_count": 10,
   "id": "ca3ec600",
   "metadata": {
    "execution": {
     "iopub.execute_input": "2025-10-11T23:21:38.670065Z",
     "iopub.status.busy": "2025-10-11T23:21:38.669813Z",
     "iopub.status.idle": "2025-10-11T23:21:38.783643Z",
     "shell.execute_reply": "2025-10-11T23:21:38.782823Z"
    },
    "papermill": {
     "duration": 0.163013,
     "end_time": "2025-10-11T23:21:38.785083",
     "exception": false,
     "start_time": "2025-10-11T23:21:38.622070",
     "status": "completed"
    },
    "tags": []
   },
   "outputs": [],
   "source": [
    "shape_resize = (512, 896)\n",
    "\n",
    "if COMPUTE_MEAN_STD:\n",
    "    mean_streethazards, std_streethazards = compute_mean_std_channels(StreetHazardsDataset(odgt_file= train_odgt_file,\n",
    "                                                                                           image_resize = shape_resize,\n",
    "                                                                                           spatial_transforms=None,\n",
    "                                                                                           mean_std=None))\n",
    "else:\n",
    "    mean_streethazards, std_streethazards = [0.3302, 0.3459, 0.373], [0.1595, 0.1577, 0.1712]\n",
    "\n",
    "spatial_transforms = transforms.v2.Compose([\n",
    "    transforms.v2.RandomHorizontalFlip(),\n",
    "])\n",
    "\n",
    "train_dataset = StreetHazardsDataset(\n",
    "    odgt_file= train_odgt_file,\n",
    "    image_resize = shape_resize,\n",
    "    spatial_transforms=spatial_transforms,\n",
    "    mean_std=(mean_streethazards, std_streethazards)\n",
    ")\n",
    "\n",
    "val_dataset = StreetHazardsDataset(\n",
    "    odgt_file= val_odgt_file,\n",
    "    image_resize = shape_resize,\n",
    "    spatial_transforms=None,\n",
    "    mean_std=(mean_streethazards, std_streethazards)\n",
    ")\n",
    "\n",
    "test_dataset = StreetHazardsDataset(\n",
    "    odgt_file= test_odgt_file,\n",
    "    image_resize = shape_resize,\n",
    "    spatial_transforms=None,\n",
    "    mean_std=(mean_streethazards, std_streethazards)\n",
    ")\n",
    "\n",
    "train_dl = DataLoader(train_dataset, batch_size=8, shuffle=True, num_workers=2)\n",
    "val_dl = DataLoader(val_dataset, batch_size=8, shuffle=False, num_workers=2)\n",
    "test_dl = DataLoader(test_dataset, batch_size=8, shuffle=False, num_workers=2)"
   ]
  },
  {
   "cell_type": "code",
   "execution_count": 11,
   "id": "ad033310",
   "metadata": {
    "execution": {
     "iopub.execute_input": "2025-10-11T23:21:38.965684Z",
     "iopub.status.busy": "2025-10-11T23:21:38.965362Z",
     "iopub.status.idle": "2025-10-11T23:21:41.185330Z",
     "shell.execute_reply": "2025-10-11T23:21:41.184712Z"
    },
    "papermill": {
     "duration": 2.354955,
     "end_time": "2025-10-11T23:21:41.186742",
     "exception": false,
     "start_time": "2025-10-11T23:21:38.831787",
     "status": "completed"
    },
    "tags": []
   },
   "outputs": [
    {
     "data": {
      "application/vnd.jupyter.widget-view+json": {
       "model_id": "f0b934b2f0a34191ada36e378e679816",
       "version_major": 2,
       "version_minor": 0
      },
      "text/plain": [
       "config.json:   0%|          | 0.00/156 [00:00<?, ?B/s]"
      ]
     },
     "metadata": {},
     "output_type": "display_data"
    },
    {
     "data": {
      "application/vnd.jupyter.widget-view+json": {
       "model_id": "cde34e2e4b5145ddbaaa407a0e3c3448",
       "version_major": 2,
       "version_minor": 0
      },
      "text/plain": [
       "model.safetensors:   0%|          | 0.00/46.8M [00:00<?, ?B/s]"
      ]
     },
     "metadata": {},
     "output_type": "display_data"
    }
   ],
   "source": [
    "torch.cuda.empty_cache()\n",
    "device = torch.device(\"cuda\" if torch.cuda.is_available() else \"cpu\")\n",
    "# Esempio di utilizzo:\n",
    "encoder_name = \"resnet18\"\n",
    "encoder_weights = \"imagenet\"\n",
    "num_known_classes = 13 # Numero di classi per cui i prototipi sono one-hot\n",
    "t_value = 3.0\n",
    "device = 'cuda' if torch.cuda.is_available() else 'cpu'\n",
    "\n",
    "# Inizializza il feature extractor\n",
    "feature_extractor = DMLNetFeatureExtractor(\n",
    "    encoder_name=encoder_name,\n",
    "    encoder_weights=encoder_weights,\n",
    "    num_feature_channels=num_known_classes,\n",
    "    activation=None\n",
    ").to(device)\n",
    "model_optimizer = torch.optim.Adam(feature_extractor.parameters(), lr=0.001)\n",
    "\n",
    "def train(num_epochs,model,train_loader,lambda_weight) -> None:\n",
    "        \n",
    "        for epoch in tqdm(range(num_epochs), desc=\"Epoch\"):\n",
    "            \n",
    "            model.train()\n",
    "\n",
    "            losses = []\n",
    "\n",
    "            for batch in train_loader: \n",
    "\n",
    "                    \n",
    "                imgs = batch['image'].to(device)\n",
    "                labels = batch['labels'].to(device)\n",
    "                \n",
    "                logits = model(imgs)\n",
    "                \n",
    "                lossClass = DiscriminativeCrossEntropyLoss(Prototype,lambda_weight)\n",
    "\n",
    "                \n",
    "                loss = lossClass(logits,labels)\n",
    "                            \n",
    "                losses.append(loss.item())\n",
    "                \n",
    "                model_optimizer.zero_grad()\n",
    "                loss.backward()\n",
    "                model_optimizer.step()\n",
    "            \n",
    "                del loss\n",
    "                \n",
    "\n",
    "            l = sum(losses) / len(losses)\n",
    "\n",
    "            print(f\"Epoch {epoch + 1}\", end = ' ')"
   ]
  },
  {
   "cell_type": "code",
   "execution_count": 12,
   "id": "091fbf50",
   "metadata": {
    "execution": {
     "iopub.execute_input": "2025-10-11T23:21:41.282587Z",
     "iopub.status.busy": "2025-10-11T23:21:41.281990Z",
     "iopub.status.idle": "2025-10-12T07:00:48.154827Z",
     "shell.execute_reply": "2025-10-12T07:00:48.153908Z"
    },
    "papermill": {
     "duration": 27546.961704,
     "end_time": "2025-10-12T07:00:48.196744",
     "exception": false,
     "start_time": "2025-10-11T23:21:41.235040",
     "status": "completed"
    },
    "tags": []
   },
   "outputs": [
    {
     "name": "stderr",
     "output_type": "stream",
     "text": [
      "Epoch:   1%|          | 1/100 [04:36<7:36:35, 276.73s/it]"
     ]
    },
    {
     "name": "stdout",
     "output_type": "stream",
     "text": [
      "Epoch 1 "
     ]
    },
    {
     "name": "stderr",
     "output_type": "stream",
     "text": [
      "Epoch:   2%|▏         | 2/100 [09:12<7:30:48, 276.00s/it]"
     ]
    },
    {
     "name": "stdout",
     "output_type": "stream",
     "text": [
      "Epoch 2 "
     ]
    },
    {
     "name": "stderr",
     "output_type": "stream",
     "text": [
      "Epoch:   3%|▎         | 3/100 [13:47<7:25:49, 275.77s/it]"
     ]
    },
    {
     "name": "stdout",
     "output_type": "stream",
     "text": [
      "Epoch 3 "
     ]
    },
    {
     "name": "stderr",
     "output_type": "stream",
     "text": [
      "Epoch:   4%|▍         | 4/100 [18:23<7:21:04, 275.67s/it]"
     ]
    },
    {
     "name": "stdout",
     "output_type": "stream",
     "text": [
      "Epoch 4 "
     ]
    },
    {
     "name": "stderr",
     "output_type": "stream",
     "text": [
      "Epoch:   5%|▌         | 5/100 [22:58<7:16:19, 275.57s/it]"
     ]
    },
    {
     "name": "stdout",
     "output_type": "stream",
     "text": [
      "Epoch 5 "
     ]
    },
    {
     "name": "stderr",
     "output_type": "stream",
     "text": [
      "Epoch:   6%|▌         | 6/100 [27:34<7:11:44, 275.58s/it]"
     ]
    },
    {
     "name": "stdout",
     "output_type": "stream",
     "text": [
      "Epoch 6 "
     ]
    },
    {
     "name": "stderr",
     "output_type": "stream",
     "text": [
      "Epoch:   7%|▋         | 7/100 [32:10<7:07:15, 275.65s/it]"
     ]
    },
    {
     "name": "stdout",
     "output_type": "stream",
     "text": [
      "Epoch 7 "
     ]
    },
    {
     "name": "stderr",
     "output_type": "stream",
     "text": [
      "Epoch:   8%|▊         | 8/100 [36:45<7:02:36, 275.61s/it]"
     ]
    },
    {
     "name": "stdout",
     "output_type": "stream",
     "text": [
      "Epoch 8 "
     ]
    },
    {
     "name": "stderr",
     "output_type": "stream",
     "text": [
      "Epoch:   9%|▉         | 9/100 [41:21<6:58:01, 275.62s/it]"
     ]
    },
    {
     "name": "stdout",
     "output_type": "stream",
     "text": [
      "Epoch 9 "
     ]
    },
    {
     "name": "stderr",
     "output_type": "stream",
     "text": [
      "Epoch:  10%|█         | 10/100 [45:56<6:53:23, 275.59s/it]"
     ]
    },
    {
     "name": "stdout",
     "output_type": "stream",
     "text": [
      "Epoch 10 "
     ]
    },
    {
     "name": "stderr",
     "output_type": "stream",
     "text": [
      "Epoch:  11%|█         | 11/100 [50:32<6:48:48, 275.60s/it]"
     ]
    },
    {
     "name": "stdout",
     "output_type": "stream",
     "text": [
      "Epoch 11 "
     ]
    },
    {
     "name": "stderr",
     "output_type": "stream",
     "text": [
      "Epoch:  12%|█▏        | 12/100 [55:07<6:44:13, 275.60s/it]"
     ]
    },
    {
     "name": "stdout",
     "output_type": "stream",
     "text": [
      "Epoch 12 "
     ]
    },
    {
     "name": "stderr",
     "output_type": "stream",
     "text": [
      "Epoch:  13%|█▎        | 13/100 [59:43<6:39:35, 275.58s/it]"
     ]
    },
    {
     "name": "stdout",
     "output_type": "stream",
     "text": [
      "Epoch 13 "
     ]
    },
    {
     "name": "stderr",
     "output_type": "stream",
     "text": [
      "Epoch:  14%|█▍        | 14/100 [1:04:18<6:34:57, 275.56s/it]"
     ]
    },
    {
     "name": "stdout",
     "output_type": "stream",
     "text": [
      "Epoch 14 "
     ]
    },
    {
     "name": "stderr",
     "output_type": "stream",
     "text": [
      "Epoch:  15%|█▌        | 15/100 [1:08:54<6:30:18, 275.52s/it]"
     ]
    },
    {
     "name": "stdout",
     "output_type": "stream",
     "text": [
      "Epoch 15 "
     ]
    },
    {
     "name": "stderr",
     "output_type": "stream",
     "text": [
      "Epoch:  16%|█▌        | 16/100 [1:13:30<6:25:45, 275.55s/it]"
     ]
    },
    {
     "name": "stdout",
     "output_type": "stream",
     "text": [
      "Epoch 16 "
     ]
    },
    {
     "name": "stderr",
     "output_type": "stream",
     "text": [
      "Epoch:  17%|█▋        | 17/100 [1:18:05<6:21:06, 275.49s/it]"
     ]
    },
    {
     "name": "stdout",
     "output_type": "stream",
     "text": [
      "Epoch 17 "
     ]
    },
    {
     "name": "stderr",
     "output_type": "stream",
     "text": [
      "Epoch:  18%|█▊        | 18/100 [1:22:40<6:16:31, 275.51s/it]"
     ]
    },
    {
     "name": "stdout",
     "output_type": "stream",
     "text": [
      "Epoch 18 "
     ]
    },
    {
     "name": "stderr",
     "output_type": "stream",
     "text": [
      "Epoch:  19%|█▉        | 19/100 [1:27:16<6:11:56, 275.51s/it]"
     ]
    },
    {
     "name": "stdout",
     "output_type": "stream",
     "text": [
      "Epoch 19 "
     ]
    },
    {
     "name": "stderr",
     "output_type": "stream",
     "text": [
      "Epoch:  20%|██        | 20/100 [1:31:51<6:07:19, 275.50s/it]"
     ]
    },
    {
     "name": "stdout",
     "output_type": "stream",
     "text": [
      "Epoch 20 "
     ]
    },
    {
     "name": "stderr",
     "output_type": "stream",
     "text": [
      "Epoch:  21%|██        | 21/100 [1:36:27<6:02:37, 275.42s/it]"
     ]
    },
    {
     "name": "stdout",
     "output_type": "stream",
     "text": [
      "Epoch 21 "
     ]
    },
    {
     "name": "stderr",
     "output_type": "stream",
     "text": [
      "Epoch:  22%|██▏       | 22/100 [1:41:02<5:57:59, 275.37s/it]"
     ]
    },
    {
     "name": "stdout",
     "output_type": "stream",
     "text": [
      "Epoch 22 "
     ]
    },
    {
     "name": "stderr",
     "output_type": "stream",
     "text": [
      "Epoch:  23%|██▎       | 23/100 [1:45:37<5:53:21, 275.35s/it]"
     ]
    },
    {
     "name": "stdout",
     "output_type": "stream",
     "text": [
      "Epoch 23 "
     ]
    },
    {
     "name": "stderr",
     "output_type": "stream",
     "text": [
      "Epoch:  24%|██▍       | 24/100 [1:50:13<5:48:48, 275.38s/it]"
     ]
    },
    {
     "name": "stdout",
     "output_type": "stream",
     "text": [
      "Epoch 24 "
     ]
    },
    {
     "name": "stderr",
     "output_type": "stream",
     "text": [
      "Epoch:  25%|██▌       | 25/100 [1:54:48<5:44:12, 275.37s/it]"
     ]
    },
    {
     "name": "stdout",
     "output_type": "stream",
     "text": [
      "Epoch 25 "
     ]
    },
    {
     "name": "stderr",
     "output_type": "stream",
     "text": [
      "Epoch:  26%|██▌       | 26/100 [1:59:23<5:39:37, 275.37s/it]"
     ]
    },
    {
     "name": "stdout",
     "output_type": "stream",
     "text": [
      "Epoch 26 "
     ]
    },
    {
     "name": "stderr",
     "output_type": "stream",
     "text": [
      "Epoch:  27%|██▋       | 27/100 [2:03:59<5:35:03, 275.38s/it]"
     ]
    },
    {
     "name": "stdout",
     "output_type": "stream",
     "text": [
      "Epoch 27 "
     ]
    },
    {
     "name": "stderr",
     "output_type": "stream",
     "text": [
      "Epoch:  28%|██▊       | 28/100 [2:08:34<5:30:25, 275.35s/it]"
     ]
    },
    {
     "name": "stdout",
     "output_type": "stream",
     "text": [
      "Epoch 28 "
     ]
    },
    {
     "name": "stderr",
     "output_type": "stream",
     "text": [
      "Epoch:  29%|██▉       | 29/100 [2:13:09<5:25:49, 275.35s/it]"
     ]
    },
    {
     "name": "stdout",
     "output_type": "stream",
     "text": [
      "Epoch 29 "
     ]
    },
    {
     "name": "stderr",
     "output_type": "stream",
     "text": [
      "Epoch:  30%|███       | 30/100 [2:17:45<5:21:13, 275.33s/it]"
     ]
    },
    {
     "name": "stdout",
     "output_type": "stream",
     "text": [
      "Epoch 30 "
     ]
    },
    {
     "name": "stderr",
     "output_type": "stream",
     "text": [
      "Epoch:  31%|███       | 31/100 [2:22:20<5:16:35, 275.29s/it]"
     ]
    },
    {
     "name": "stdout",
     "output_type": "stream",
     "text": [
      "Epoch 31 "
     ]
    },
    {
     "name": "stderr",
     "output_type": "stream",
     "text": [
      "Epoch:  32%|███▏      | 32/100 [2:26:55<5:11:58, 275.28s/it]"
     ]
    },
    {
     "name": "stdout",
     "output_type": "stream",
     "text": [
      "Epoch 32 "
     ]
    },
    {
     "name": "stderr",
     "output_type": "stream",
     "text": [
      "Epoch:  33%|███▎      | 33/100 [2:31:31<5:07:25, 275.31s/it]"
     ]
    },
    {
     "name": "stdout",
     "output_type": "stream",
     "text": [
      "Epoch 33 "
     ]
    },
    {
     "name": "stderr",
     "output_type": "stream",
     "text": [
      "Epoch:  34%|███▍      | 34/100 [2:36:06<5:02:50, 275.31s/it]"
     ]
    },
    {
     "name": "stdout",
     "output_type": "stream",
     "text": [
      "Epoch 34 "
     ]
    },
    {
     "name": "stderr",
     "output_type": "stream",
     "text": [
      "Epoch:  35%|███▌      | 35/100 [2:40:41<4:58:14, 275.30s/it]"
     ]
    },
    {
     "name": "stdout",
     "output_type": "stream",
     "text": [
      "Epoch 35 "
     ]
    },
    {
     "name": "stderr",
     "output_type": "stream",
     "text": [
      "Epoch:  36%|███▌      | 36/100 [2:45:17<4:53:41, 275.34s/it]"
     ]
    },
    {
     "name": "stdout",
     "output_type": "stream",
     "text": [
      "Epoch 36 "
     ]
    },
    {
     "name": "stderr",
     "output_type": "stream",
     "text": [
      "Epoch:  37%|███▋      | 37/100 [2:49:52<4:49:08, 275.38s/it]"
     ]
    },
    {
     "name": "stdout",
     "output_type": "stream",
     "text": [
      "Epoch 37 "
     ]
    },
    {
     "name": "stderr",
     "output_type": "stream",
     "text": [
      "Epoch:  38%|███▊      | 38/100 [2:54:27<4:44:33, 275.39s/it]"
     ]
    },
    {
     "name": "stdout",
     "output_type": "stream",
     "text": [
      "Epoch 38 "
     ]
    },
    {
     "name": "stderr",
     "output_type": "stream",
     "text": [
      "Epoch:  39%|███▉      | 39/100 [2:59:03<4:39:56, 275.36s/it]"
     ]
    },
    {
     "name": "stdout",
     "output_type": "stream",
     "text": [
      "Epoch 39 "
     ]
    },
    {
     "name": "stderr",
     "output_type": "stream",
     "text": [
      "Epoch:  40%|████      | 40/100 [3:03:38<4:35:16, 275.28s/it]"
     ]
    },
    {
     "name": "stdout",
     "output_type": "stream",
     "text": [
      "Epoch 40 "
     ]
    },
    {
     "name": "stderr",
     "output_type": "stream",
     "text": [
      "Epoch:  41%|████      | 41/100 [3:08:13<4:30:38, 275.23s/it]"
     ]
    },
    {
     "name": "stdout",
     "output_type": "stream",
     "text": [
      "Epoch 41 "
     ]
    },
    {
     "name": "stderr",
     "output_type": "stream",
     "text": [
      "Epoch:  42%|████▏     | 42/100 [3:12:48<4:26:05, 275.27s/it]"
     ]
    },
    {
     "name": "stdout",
     "output_type": "stream",
     "text": [
      "Epoch 42 "
     ]
    },
    {
     "name": "stderr",
     "output_type": "stream",
     "text": [
      "Epoch:  43%|████▎     | 43/100 [3:17:24<4:21:30, 275.28s/it]"
     ]
    },
    {
     "name": "stdout",
     "output_type": "stream",
     "text": [
      "Epoch 43 "
     ]
    },
    {
     "name": "stderr",
     "output_type": "stream",
     "text": [
      "Epoch:  44%|████▍     | 44/100 [3:21:59<4:16:54, 275.26s/it]"
     ]
    },
    {
     "name": "stdout",
     "output_type": "stream",
     "text": [
      "Epoch 44 "
     ]
    },
    {
     "name": "stderr",
     "output_type": "stream",
     "text": [
      "Epoch:  45%|████▌     | 45/100 [3:26:34<4:12:22, 275.32s/it]"
     ]
    },
    {
     "name": "stdout",
     "output_type": "stream",
     "text": [
      "Epoch 45 "
     ]
    },
    {
     "name": "stderr",
     "output_type": "stream",
     "text": [
      "Epoch:  46%|████▌     | 46/100 [3:31:10<4:07:47, 275.32s/it]"
     ]
    },
    {
     "name": "stdout",
     "output_type": "stream",
     "text": [
      "Epoch 46 "
     ]
    },
    {
     "name": "stderr",
     "output_type": "stream",
     "text": [
      "Epoch:  47%|████▋     | 47/100 [3:35:45<4:03:11, 275.32s/it]"
     ]
    },
    {
     "name": "stdout",
     "output_type": "stream",
     "text": [
      "Epoch 47 "
     ]
    },
    {
     "name": "stderr",
     "output_type": "stream",
     "text": [
      "Epoch:  48%|████▊     | 48/100 [3:40:20<3:58:39, 275.37s/it]"
     ]
    },
    {
     "name": "stdout",
     "output_type": "stream",
     "text": [
      "Epoch 48 "
     ]
    },
    {
     "name": "stderr",
     "output_type": "stream",
     "text": [
      "Epoch:  49%|████▉     | 49/100 [3:44:56<3:54:03, 275.36s/it]"
     ]
    },
    {
     "name": "stdout",
     "output_type": "stream",
     "text": [
      "Epoch 49 "
     ]
    },
    {
     "name": "stderr",
     "output_type": "stream",
     "text": [
      "Epoch:  50%|█████     | 50/100 [3:49:31<3:49:31, 275.42s/it]"
     ]
    },
    {
     "name": "stdout",
     "output_type": "stream",
     "text": [
      "Epoch 50 "
     ]
    },
    {
     "name": "stderr",
     "output_type": "stream",
     "text": [
      "Epoch:  51%|█████     | 51/100 [3:54:07<3:44:54, 275.39s/it]"
     ]
    },
    {
     "name": "stdout",
     "output_type": "stream",
     "text": [
      "Epoch 51 "
     ]
    },
    {
     "name": "stderr",
     "output_type": "stream",
     "text": [
      "Epoch:  52%|█████▏    | 52/100 [3:58:42<3:40:17, 275.36s/it]"
     ]
    },
    {
     "name": "stdout",
     "output_type": "stream",
     "text": [
      "Epoch 52 "
     ]
    },
    {
     "name": "stderr",
     "output_type": "stream",
     "text": [
      "Epoch:  53%|█████▎    | 53/100 [4:03:17<3:35:40, 275.34s/it]"
     ]
    },
    {
     "name": "stdout",
     "output_type": "stream",
     "text": [
      "Epoch 53 "
     ]
    },
    {
     "name": "stderr",
     "output_type": "stream",
     "text": [
      "Epoch:  54%|█████▍    | 54/100 [4:07:53<3:31:07, 275.38s/it]"
     ]
    },
    {
     "name": "stdout",
     "output_type": "stream",
     "text": [
      "Epoch 54 "
     ]
    },
    {
     "name": "stderr",
     "output_type": "stream",
     "text": [
      "Epoch:  55%|█████▌    | 55/100 [4:12:28<3:26:30, 275.34s/it]"
     ]
    },
    {
     "name": "stdout",
     "output_type": "stream",
     "text": [
      "Epoch 55 "
     ]
    },
    {
     "name": "stderr",
     "output_type": "stream",
     "text": [
      "Epoch:  56%|█████▌    | 56/100 [4:17:03<3:21:57, 275.39s/it]"
     ]
    },
    {
     "name": "stdout",
     "output_type": "stream",
     "text": [
      "Epoch 56 "
     ]
    },
    {
     "name": "stderr",
     "output_type": "stream",
     "text": [
      "Epoch:  57%|█████▋    | 57/100 [4:21:39<3:17:23, 275.42s/it]"
     ]
    },
    {
     "name": "stdout",
     "output_type": "stream",
     "text": [
      "Epoch 57 "
     ]
    },
    {
     "name": "stderr",
     "output_type": "stream",
     "text": [
      "Epoch:  58%|█████▊    | 58/100 [4:26:15<3:12:51, 275.50s/it]"
     ]
    },
    {
     "name": "stdout",
     "output_type": "stream",
     "text": [
      "Epoch 58 "
     ]
    },
    {
     "name": "stderr",
     "output_type": "stream",
     "text": [
      "Epoch:  59%|█████▉    | 59/100 [4:30:50<3:08:15, 275.51s/it]"
     ]
    },
    {
     "name": "stdout",
     "output_type": "stream",
     "text": [
      "Epoch 59 "
     ]
    },
    {
     "name": "stderr",
     "output_type": "stream",
     "text": [
      "Epoch:  60%|██████    | 60/100 [4:35:26<3:03:41, 275.53s/it]"
     ]
    },
    {
     "name": "stdout",
     "output_type": "stream",
     "text": [
      "Epoch 60 "
     ]
    },
    {
     "name": "stderr",
     "output_type": "stream",
     "text": [
      "Epoch:  61%|██████    | 61/100 [4:40:01<2:59:06, 275.56s/it]"
     ]
    },
    {
     "name": "stdout",
     "output_type": "stream",
     "text": [
      "Epoch 61 "
     ]
    },
    {
     "name": "stderr",
     "output_type": "stream",
     "text": [
      "Epoch:  62%|██████▏   | 62/100 [4:44:37<2:54:31, 275.57s/it]"
     ]
    },
    {
     "name": "stdout",
     "output_type": "stream",
     "text": [
      "Epoch 62 "
     ]
    },
    {
     "name": "stderr",
     "output_type": "stream",
     "text": [
      "Epoch:  63%|██████▎   | 63/100 [4:49:13<2:49:56, 275.57s/it]"
     ]
    },
    {
     "name": "stdout",
     "output_type": "stream",
     "text": [
      "Epoch 63 "
     ]
    },
    {
     "name": "stderr",
     "output_type": "stream",
     "text": [
      "Epoch:  64%|██████▍   | 64/100 [4:53:48<2:45:21, 275.59s/it]"
     ]
    },
    {
     "name": "stdout",
     "output_type": "stream",
     "text": [
      "Epoch 64 "
     ]
    },
    {
     "name": "stderr",
     "output_type": "stream",
     "text": [
      "Epoch:  65%|██████▌   | 65/100 [4:58:24<2:40:46, 275.60s/it]"
     ]
    },
    {
     "name": "stdout",
     "output_type": "stream",
     "text": [
      "Epoch 65 "
     ]
    },
    {
     "name": "stderr",
     "output_type": "stream",
     "text": [
      "Epoch:  66%|██████▌   | 66/100 [5:03:00<2:36:11, 275.64s/it]"
     ]
    },
    {
     "name": "stdout",
     "output_type": "stream",
     "text": [
      "Epoch 66 "
     ]
    },
    {
     "name": "stderr",
     "output_type": "stream",
     "text": [
      "Epoch:  67%|██████▋   | 67/100 [5:07:35<2:31:36, 275.64s/it]"
     ]
    },
    {
     "name": "stdout",
     "output_type": "stream",
     "text": [
      "Epoch 67 "
     ]
    },
    {
     "name": "stderr",
     "output_type": "stream",
     "text": [
      "Epoch:  68%|██████▊   | 68/100 [5:12:11<2:26:59, 275.61s/it]"
     ]
    },
    {
     "name": "stdout",
     "output_type": "stream",
     "text": [
      "Epoch 68 "
     ]
    },
    {
     "name": "stderr",
     "output_type": "stream",
     "text": [
      "Epoch:  69%|██████▉   | 69/100 [5:16:46<2:22:23, 275.59s/it]"
     ]
    },
    {
     "name": "stdout",
     "output_type": "stream",
     "text": [
      "Epoch 69 "
     ]
    },
    {
     "name": "stderr",
     "output_type": "stream",
     "text": [
      "Epoch:  70%|███████   | 70/100 [5:21:22<2:17:47, 275.59s/it]"
     ]
    },
    {
     "name": "stdout",
     "output_type": "stream",
     "text": [
      "Epoch 70 "
     ]
    },
    {
     "name": "stderr",
     "output_type": "stream",
     "text": [
      "Epoch:  71%|███████   | 71/100 [5:25:57<2:13:09, 275.50s/it]"
     ]
    },
    {
     "name": "stdout",
     "output_type": "stream",
     "text": [
      "Epoch 71 "
     ]
    },
    {
     "name": "stderr",
     "output_type": "stream",
     "text": [
      "Epoch:  72%|███████▏  | 72/100 [5:30:32<2:08:32, 275.44s/it]"
     ]
    },
    {
     "name": "stdout",
     "output_type": "stream",
     "text": [
      "Epoch 72 "
     ]
    },
    {
     "name": "stderr",
     "output_type": "stream",
     "text": [
      "Epoch:  73%|███████▎  | 73/100 [5:35:08<2:03:56, 275.41s/it]"
     ]
    },
    {
     "name": "stdout",
     "output_type": "stream",
     "text": [
      "Epoch 73 "
     ]
    },
    {
     "name": "stderr",
     "output_type": "stream",
     "text": [
      "Epoch:  74%|███████▍  | 74/100 [5:39:43<1:59:20, 275.39s/it]"
     ]
    },
    {
     "name": "stdout",
     "output_type": "stream",
     "text": [
      "Epoch 74 "
     ]
    },
    {
     "name": "stderr",
     "output_type": "stream",
     "text": [
      "Epoch:  75%|███████▌  | 75/100 [5:44:19<1:54:45, 275.40s/it]"
     ]
    },
    {
     "name": "stdout",
     "output_type": "stream",
     "text": [
      "Epoch 75 "
     ]
    },
    {
     "name": "stderr",
     "output_type": "stream",
     "text": [
      "Epoch:  76%|███████▌  | 76/100 [5:48:54<1:50:08, 275.37s/it]"
     ]
    },
    {
     "name": "stdout",
     "output_type": "stream",
     "text": [
      "Epoch 76 "
     ]
    },
    {
     "name": "stderr",
     "output_type": "stream",
     "text": [
      "Epoch:  77%|███████▋  | 77/100 [5:53:29<1:45:33, 275.38s/it]"
     ]
    },
    {
     "name": "stdout",
     "output_type": "stream",
     "text": [
      "Epoch 77 "
     ]
    },
    {
     "name": "stderr",
     "output_type": "stream",
     "text": [
      "Epoch:  78%|███████▊  | 78/100 [5:58:05<1:40:58, 275.38s/it]"
     ]
    },
    {
     "name": "stdout",
     "output_type": "stream",
     "text": [
      "Epoch 78 "
     ]
    },
    {
     "name": "stderr",
     "output_type": "stream",
     "text": [
      "Epoch:  79%|███████▉  | 79/100 [6:02:40<1:36:23, 275.41s/it]"
     ]
    },
    {
     "name": "stdout",
     "output_type": "stream",
     "text": [
      "Epoch 79 "
     ]
    },
    {
     "name": "stderr",
     "output_type": "stream",
     "text": [
      "Epoch:  80%|████████  | 80/100 [6:07:16<1:31:49, 275.45s/it]"
     ]
    },
    {
     "name": "stdout",
     "output_type": "stream",
     "text": [
      "Epoch 80 "
     ]
    },
    {
     "name": "stderr",
     "output_type": "stream",
     "text": [
      "Epoch:  81%|████████  | 81/100 [6:11:51<1:27:14, 275.49s/it]"
     ]
    },
    {
     "name": "stdout",
     "output_type": "stream",
     "text": [
      "Epoch 81 "
     ]
    },
    {
     "name": "stderr",
     "output_type": "stream",
     "text": [
      "Epoch:  82%|████████▏ | 82/100 [6:16:27<1:22:39, 275.51s/it]"
     ]
    },
    {
     "name": "stdout",
     "output_type": "stream",
     "text": [
      "Epoch 82 "
     ]
    },
    {
     "name": "stderr",
     "output_type": "stream",
     "text": [
      "Epoch:  83%|████████▎ | 83/100 [6:21:02<1:18:03, 275.50s/it]"
     ]
    },
    {
     "name": "stdout",
     "output_type": "stream",
     "text": [
      "Epoch 83 "
     ]
    },
    {
     "name": "stderr",
     "output_type": "stream",
     "text": [
      "Epoch:  84%|████████▍ | 84/100 [6:25:38<1:13:27, 275.49s/it]"
     ]
    },
    {
     "name": "stdout",
     "output_type": "stream",
     "text": [
      "Epoch 84 "
     ]
    },
    {
     "name": "stderr",
     "output_type": "stream",
     "text": [
      "Epoch:  85%|████████▌ | 85/100 [6:30:13<1:08:51, 275.44s/it]"
     ]
    },
    {
     "name": "stdout",
     "output_type": "stream",
     "text": [
      "Epoch 85 "
     ]
    },
    {
     "name": "stderr",
     "output_type": "stream",
     "text": [
      "Epoch:  86%|████████▌ | 86/100 [6:34:49<1:04:16, 275.46s/it]"
     ]
    },
    {
     "name": "stdout",
     "output_type": "stream",
     "text": [
      "Epoch 86 "
     ]
    },
    {
     "name": "stderr",
     "output_type": "stream",
     "text": [
      "Epoch:  87%|████████▋ | 87/100 [6:39:24<59:41, 275.51s/it]  "
     ]
    },
    {
     "name": "stdout",
     "output_type": "stream",
     "text": [
      "Epoch 87 "
     ]
    },
    {
     "name": "stderr",
     "output_type": "stream",
     "text": [
      "Epoch:  88%|████████▊ | 88/100 [6:44:00<55:06, 275.51s/it]"
     ]
    },
    {
     "name": "stdout",
     "output_type": "stream",
     "text": [
      "Epoch 88 "
     ]
    },
    {
     "name": "stderr",
     "output_type": "stream",
     "text": [
      "Epoch:  89%|████████▉ | 89/100 [6:48:35<50:30, 275.54s/it]"
     ]
    },
    {
     "name": "stdout",
     "output_type": "stream",
     "text": [
      "Epoch 89 "
     ]
    },
    {
     "name": "stderr",
     "output_type": "stream",
     "text": [
      "Epoch:  90%|█████████ | 90/100 [6:53:11<45:55, 275.58s/it]"
     ]
    },
    {
     "name": "stdout",
     "output_type": "stream",
     "text": [
      "Epoch 90 "
     ]
    },
    {
     "name": "stderr",
     "output_type": "stream",
     "text": [
      "Epoch:  91%|█████████ | 91/100 [6:57:46<41:19, 275.55s/it]"
     ]
    },
    {
     "name": "stdout",
     "output_type": "stream",
     "text": [
      "Epoch 91 "
     ]
    },
    {
     "name": "stderr",
     "output_type": "stream",
     "text": [
      "Epoch:  92%|█████████▏| 92/100 [7:02:22<36:44, 275.57s/it]"
     ]
    },
    {
     "name": "stdout",
     "output_type": "stream",
     "text": [
      "Epoch 92 "
     ]
    },
    {
     "name": "stderr",
     "output_type": "stream",
     "text": [
      "Epoch:  93%|█████████▎| 93/100 [7:06:58<32:09, 275.60s/it]"
     ]
    },
    {
     "name": "stdout",
     "output_type": "stream",
     "text": [
      "Epoch 93 "
     ]
    },
    {
     "name": "stderr",
     "output_type": "stream",
     "text": [
      "Epoch:  94%|█████████▍| 94/100 [7:11:33<27:33, 275.61s/it]"
     ]
    },
    {
     "name": "stdout",
     "output_type": "stream",
     "text": [
      "Epoch 94 "
     ]
    },
    {
     "name": "stderr",
     "output_type": "stream",
     "text": [
      "Epoch:  95%|█████████▌| 95/100 [7:16:09<22:57, 275.58s/it]"
     ]
    },
    {
     "name": "stdout",
     "output_type": "stream",
     "text": [
      "Epoch 95 "
     ]
    },
    {
     "name": "stderr",
     "output_type": "stream",
     "text": [
      "Epoch:  96%|█████████▌| 96/100 [7:20:44<18:22, 275.57s/it]"
     ]
    },
    {
     "name": "stdout",
     "output_type": "stream",
     "text": [
      "Epoch 96 "
     ]
    },
    {
     "name": "stderr",
     "output_type": "stream",
     "text": [
      "Epoch:  97%|█████████▋| 97/100 [7:25:20<13:46, 275.53s/it]"
     ]
    },
    {
     "name": "stdout",
     "output_type": "stream",
     "text": [
      "Epoch 97 "
     ]
    },
    {
     "name": "stderr",
     "output_type": "stream",
     "text": [
      "Epoch:  98%|█████████▊| 98/100 [7:29:55<09:11, 275.53s/it]"
     ]
    },
    {
     "name": "stdout",
     "output_type": "stream",
     "text": [
      "Epoch 98 "
     ]
    },
    {
     "name": "stderr",
     "output_type": "stream",
     "text": [
      "Epoch:  99%|█████████▉| 99/100 [7:34:31<04:35, 275.50s/it]"
     ]
    },
    {
     "name": "stdout",
     "output_type": "stream",
     "text": [
      "Epoch 99 "
     ]
    },
    {
     "name": "stderr",
     "output_type": "stream",
     "text": [
      "Epoch: 100%|██████████| 100/100 [7:39:06<00:00, 275.47s/it]"
     ]
    },
    {
     "name": "stdout",
     "output_type": "stream",
     "text": [
      "Epoch 100 "
     ]
    },
    {
     "name": "stderr",
     "output_type": "stream",
     "text": [
      "\n"
     ]
    }
   ],
   "source": [
    "train(100,feature_extractor,train_dl,0.1)"
   ]
  },
  {
   "cell_type": "code",
   "execution_count": 13,
   "id": "e251303b",
   "metadata": {
    "execution": {
     "iopub.execute_input": "2025-10-12T07:00:48.303559Z",
     "iopub.status.busy": "2025-10-12T07:00:48.303220Z",
     "iopub.status.idle": "2025-10-12T07:00:48.402393Z",
     "shell.execute_reply": "2025-10-12T07:00:48.401577Z"
    },
    "papermill": {
     "duration": 0.154308,
     "end_time": "2025-10-12T07:00:48.403905",
     "exception": false,
     "start_time": "2025-10-12T07:00:48.249597",
     "status": "completed"
    },
    "tags": []
   },
   "outputs": [],
   "source": [
    "torch.save(feature_extractor, \"model_weights100E.pth\")"
   ]
  },
  {
   "cell_type": "code",
   "execution_count": 14,
   "id": "08f467a5",
   "metadata": {
    "execution": {
     "iopub.execute_input": "2025-10-12T07:00:48.512495Z",
     "iopub.status.busy": "2025-10-12T07:00:48.511809Z",
     "iopub.status.idle": "2025-10-12T07:00:48.515041Z",
     "shell.execute_reply": "2025-10-12T07:00:48.514457Z"
    },
    "papermill": {
     "duration": 0.058586,
     "end_time": "2025-10-12T07:00:48.516063",
     "exception": false,
     "start_time": "2025-10-12T07:00:48.457477",
     "status": "completed"
    },
    "tags": []
   },
   "outputs": [],
   "source": [
    "#loaded_model = torch.load(\"/kaggle/input/dml/pytorch/default/2/weights_50E.pth\",weights_only=False)\n",
    "#loaded_model.eval()\n",
    "#feature_extractor = loaded_model"
   ]
  },
  {
   "cell_type": "code",
   "execution_count": 15,
   "id": "c2efba42",
   "metadata": {
    "execution": {
     "iopub.execute_input": "2025-10-12T07:00:48.623893Z",
     "iopub.status.busy": "2025-10-12T07:00:48.623191Z",
     "iopub.status.idle": "2025-10-12T07:00:48.629993Z",
     "shell.execute_reply": "2025-10-12T07:00:48.629251Z"
    },
    "papermill": {
     "duration": 0.061664,
     "end_time": "2025-10-12T07:00:48.631033",
     "exception": false,
     "start_time": "2025-10-12T07:00:48.569369",
     "status": "completed"
    },
    "tags": []
   },
   "outputs": [],
   "source": [
    "def get_probability(logits):\n",
    "    # pixel_features: (B, D, H, W)\n",
    "    # target_labels: (B, H, W)\n",
    "\n",
    "    # Reshape pixel_features for easier broadcasting with prototypes\n",
    "    # (B, D, H, W) -> (B, H, W, D)\n",
    "    pixel_features_reshaped = logits.permute(0, 2, 3, 1) # (B, H, W, D)\n",
    "\n",
    "    probability = torch.clone(pixel_features_reshaped)\n",
    "    for t in range(13):\n",
    "        # Expand target_labels to match the feature dimension for indexing prototypes\n",
    "        # (B, H, W) -> (B, H, W, D)\n",
    "        prototypes_t = Prototype[t].to(device) # This should now be (B, H, W, D)\n",
    "    \n",
    "        # --- Numerator (Attractive Force) ---\n",
    "        # ||f(X; θf)i,j – mY i,j ||²\n",
    "        # (B, H, W, D) - (B, H, W, D) -> (B, H, W, D)\n",
    "        difference_numerator = pixel_features_reshaped - prototypes_t\n",
    "        # (B, H, W, D) -> (B, H, W)\n",
    "        squared_diff_numerator = torch.sum(difference_numerator.pow(2), dim=-1)\n",
    "        exp_squared_diff_numerator = torch.exp(-squared_diff_numerator)\n",
    "    \n",
    "        # --- Denominator (Repulsive Force) ---\n",
    "        # Σk=1 to N ( exp(-||f(X; θf)i,j – mk ||²) )\n",
    "        # To compute this, we need to calculate the squared difference for ALL prototypes\n",
    "        # and then sum their exponentials.\n",
    "    \n",
    "        # Expand pixel_features to compare with all prototypes: (B, H, W, 1, D)\n",
    "        pixel_features_expanded = pixel_features_reshaped.unsqueeze(-2) # (B, H, W, 1, D)\n",
    "    \n",
    "        # Expand prototypes to compare with all pixels: (1, 1, 1, N, D)\n",
    "        # self.prototypes has shape (N, D)\n",
    "        prototypes_expanded = prototypes_t.unsqueeze(0).unsqueeze(0).unsqueeze(0) # (1, 1, 1, N, D)\n",
    "    \n",
    "        # Calculate difference between each pixel feature and ALL prototypes\n",
    "        # (B, H, W, 1, D) - (1, 1, 1, N, D) -> (B, H, W, N, D)\n",
    "        all_prototypes_differences = pixel_features_expanded - prototypes_expanded\n",
    "    \n",
    "        # Square and sum across the feature dimension (D)\n",
    "        # (B, H, W, N, D) -> (B, H, W, N)\n",
    "        squared_diff_all_prototypes = torch.sum(all_prototypes_differences.pow(2), dim=-1)\n",
    "    \n",
    "        # Exponentiate\n",
    "        # (B, H, W, N)\n",
    "        exp_squared_diff_all_prototypes = torch.exp(-squared_diff_all_prototypes)\n",
    "    \n",
    "        # Sum across the prototype dimension (N) to get the denominator\n",
    "        # (B, H, W, N) -> (B, H, W)\n",
    "        denominator = torch.sum(exp_squared_diff_all_prototypes, dim=-1)\n",
    "    \n",
    "        # --- Calculate Pt(Xi,j) (Equation 2) ---\n",
    "        # (B, H, W) / (B, H, W) -> (B, H, W)\n",
    "        pt_values = exp_squared_diff_numerator / (denominator + 1e-8) # Add small epsilon for stability\n",
    "\n",
    "        probability[:,:,:,t] = pt_values\n",
    "        return probability\n"
   ]
  },
  {
   "cell_type": "code",
   "execution_count": 16,
   "id": "8bf8c902",
   "metadata": {
    "execution": {
     "iopub.execute_input": "2025-10-12T07:00:48.741108Z",
     "iopub.status.busy": "2025-10-12T07:00:48.740547Z",
     "iopub.status.idle": "2025-10-12T07:00:50.485193Z",
     "shell.execute_reply": "2025-10-12T07:00:50.484404Z"
    },
    "papermill": {
     "duration": 1.803599,
     "end_time": "2025-10-12T07:00:50.488603",
     "exception": false,
     "start_time": "2025-10-12T07:00:48.685004",
     "status": "completed"
    },
    "tags": []
   },
   "outputs": [
    {
     "data": {
      "image/png": "[encoded data removed]",
      "text/plain": [
       "<Figure size 1000x1200 with 2 Axes>"
      ]
     },
     "metadata": {},
     "output_type": "display_data"
    }
   ],
   "source": [
    "for batch in test_dl:\n",
    "\n",
    "    imgs = batch['image'].to(device)\n",
    "    labels = batch['labels'].to(device)\n",
    "                \n",
    "    logits = feature_extractor(imgs)\n",
    "    probability_vector = get_probability(logits)\n",
    "\n",
    "    fig, axs = plt.subplots(1, 2, figsize=(10, 12))\n",
    "    idx = 2\n",
    "    visualize_scene(imgs.cpu()[2], axs[0])\n",
    "    visualize_annotation(torch.argmax(probability_vector,axis=3).cpu().detach().numpy()[2], axs[1])\n",
    "    \n",
    "    break\n",
    "    \n",
    "    "
   ]
  }
 ],
 "metadata": {
  "kaggle": {
   "accelerator": "gpu",
   "dataSources": [
    {
     "isSourceIdPinned": true,
     "modelId": 469716,
     "modelInstanceId": 453419,
     "sourceId": 604977,
     "sourceType": "modelInstanceVersion"
    }
   ],
   "dockerImageVersionId": 31153,
   "isGpuEnabled": true,
   "isInternetEnabled": true,
   "language": "python",
   "sourceType": "notebook"
  },
  "kernelspec": {
   "display_name": "Python 3",
   "language": "python",
   "name": "python3"
  },
  "language_info": {
   "codemirror_mode": {
    "name": "ipython",
    "version": 3
   },
   "file_extension": ".py",
   "mimetype": "text/x-python",
   "name": "python",
   "nbconvert_exporter": "python",
   "pygments_lexer": "ipython3",
   "version": "3.11.13"
  },
  "papermill": {
   "default_parameters": {},
   "duration": 27773.394294,
   "end_time": "2025-10-12T07:00:54.064235",
   "environment_variables": {},
   "exception": null,
   "input_path": "__notebook__.ipynb",
   "output_path": "__notebook__.ipynb",
   "parameters": {},
   "start_time": "2025-10-11T23:18:00.669941",
   "version": "2.6.0"
  },
  "widgets": {
   "application/vnd.jupyter.widget-state+json": {
    "state": {
     "07cd206057e84cbdbebf8520f1e53c76": {
      "model_module": "@jupyter-widgets/controls",
      "model_module_version": "2.0.0",
      "model_name": "HTMLModel",
      "state": {
       "_dom_classes": [],
       "_model_module": "@jupyter-widgets/controls",
       "_model_module_version": "2.0.0",
       "_model_name": "HTMLModel",
       "_view_count": null,
       "_view_module": "@jupyter-widgets/controls",
       "_view_module_version": "2.0.0",
       "_view_name": "HTMLView",
       "description": "",
       "description_allow_html": false,
       "layout": "IPY_MODEL_fa8eb46ec92e43339adae9fa20c600bb",
       "placeholder": "​",
       "style": "IPY_MODEL_177fb4ef5cfd426f82d60cfeaa6532a4",
       "tabbable": null,
       "tooltip": null,
       "value": "config.json: 100%"
      }
     },
     "177fb4ef5cfd426f82d60cfeaa6532a4": {
      "model_module": "@jupyter-widgets/controls",
      "model_module_version": "2.0.0",
      "model_name": "HTMLStyleModel",
      "state": {
       "_model_module": "@jupyter-widgets/controls",
       "_model_module_version": "2.0.0",
       "_model_name": "HTMLStyleModel",
       "_view_count": null,
       "_view_module": "@jupyter-widgets/base",
       "_view_module_version": "2.0.0",
       "_view_name": "StyleView",
       "background": null,
       "description_width": "",
       "font_size": null,
       "text_color": null
      }
     },
     "33eeaa69fbd544569f8299fc90c3377d": {
      "model_module": "@jupyter-widgets/controls",
      "model_module_version": "2.0.0",
      "model_name": "HTMLStyleModel",
      "state": {
       "_model_module": "@jupyter-widgets/controls",
       "_model_module_version": "2.0.0",
       "_model_name": "HTMLStyleModel",
       "_view_count": null,
       "_view_module": "@jupyter-widgets/base",
       "_view_module_version": "2.0.0",
       "_view_name": "StyleView",
       "background": null,
       "description_width": "",
       "font_size": null,
       "text_color": null
      }
     },
     "3be1a94392cc45d3b83bc3f6a432a411": {
      "model_module": "@jupyter-widgets/base",
      "model_module_version": "2.0.0",
      "model_name": "LayoutModel",
      "state": {
       "_model_module": "@jupyter-widgets/base",
       "_model_module_version": "2.0.0",
       "_model_name": "LayoutModel",
       "_view_count": null,
       "_view_module": "@jupyter-widgets/base",
       "_view_module_version": "2.0.0",
       "_view_name": "LayoutView",
       "align_content": null,
       "align_items": null,
       "align_self": null,
       "border_bottom": null,
       "border_left": null,
       "border_right": null,
       "border_top": null,
       "bottom": null,
       "display": null,
       "flex": null,
       "flex_flow": null,
       "grid_area": null,
       "grid_auto_columns": null,
       "grid_auto_flow": null,
       "grid_auto_rows": null,
       "grid_column": null,
       "grid_gap": null,
       "grid_row": null,
       "grid_template_areas": null,
       "grid_template_columns": null,
       "grid_template_rows": null,
       "height": null,
       "justify_content": null,
       "justify_items": null,
       "left": null,
       "margin": null,
       "max_height": null,
       "max_width": null,
       "min_height": null,
       "min_width": null,
       "object_fit": null,
       "object_position": null,
       "order": null,
       "overflow": null,
       "padding": null,
       "right": null,
       "top": null,
       "visibility": null,
       "width": null
      }
     },
     "3d08f748ea59414dbe3671cea0246de4": {
      "model_module": "@jupyter-widgets/controls",
      "model_module_version": "2.0.0",
      "model_name": "ProgressStyleModel",
      "state": {
       "_model_module": "@jupyter-widgets/controls",
       "_model_module_version": "2.0.0",
       "_model_name": "ProgressStyleModel",
       "_view_count": null,
       "_view_module": "@jupyter-widgets/base",
       "_view_module_version": "2.0.0",
       "_view_name": "StyleView",
       "bar_color": null,
       "description_width": ""
      }
     },
     "4c6d694942e24d3ea909c67e372bb62f": {
      "model_module": "@jupyter-widgets/controls",
      "model_module_version": "2.0.0",
      "model_name": "HTMLStyleModel",
      "state": {
       "_model_module": "@jupyter-widgets/controls",
       "_model_module_version": "2.0.0",
       "_model_name": "HTMLStyleModel",
       "_view_count": null,
       "_view_module": "@jupyter-widgets/base",
       "_view_module_version": "2.0.0",
       "_view_name": "StyleView",
       "background": null,
       "description_width": "",
       "font_size": null,
       "text_color": null
      }
     },
     "569f86a02f6e410c9383e10704b26b2a": {
      "model_module": "@jupyter-widgets/controls",
      "model_module_version": "2.0.0",
      "model_name": "HTMLModel",
      "state": {
       "_dom_classes": [],
       "_model_module": "@jupyter-widgets/controls",
       "_model_module_version": "2.0.0",
       "_model_name": "HTMLModel",
       "_view_count": null,
       "_view_module": "@jupyter-widgets/controls",
       "_view_module_version": "2.0.0",
       "_view_name": "HTMLView",
       "description": "",
       "description_allow_html": false,
       "layout": "IPY_MODEL_f4fe2257e5cc49b296c78db50bb2b74a",
       "placeholder": "​",
       "style": "IPY_MODEL_4c6d694942e24d3ea909c67e372bb62f",
       "tabbable": null,
       "tooltip": null,
       "value": " 46.8M/46.8M [00:00&lt;00:00, 49.8MB/s]"
      }
     },
     "5e117ad297bb4581980bef54a340e852": {
      "model_module": "@jupyter-widgets/controls",
      "model_module_version": "2.0.0",
      "model_name": "HTMLModel",
      "state": {
       "_dom_classes": [],
       "_model_module": "@jupyter-widgets/controls",
       "_model_module_version": "2.0.0",
       "_model_name": "HTMLModel",
       "_view_count": null,
       "_view_module": "@jupyter-widgets/controls",
       "_view_module_version": "2.0.0",
       "_view_name": "HTMLView",
       "description": "",
       "description_allow_html": false,
       "layout": "IPY_MODEL_a346e2ac801d4093bd123c81d6eb4294",
       "placeholder": "​",
       "style": "IPY_MODEL_eccac99ae8e94985be6c5463c0a8937b",
       "tabbable": null,
       "tooltip": null,
       "value": "model.safetensors: 100%"
      }
     },
     "5e9d230d787b415aa0c200061712f989": {
      "model_module": "@jupyter-widgets/controls",
      "model_module_version": "2.0.0",
      "model_name": "FloatProgressModel",
      "state": {
       "_dom_classes": [],
       "_model_module": "@jupyter-widgets/controls",
       "_model_module_version": "2.0.0",
       "_model_name": "FloatProgressModel",
       "_view_count": null,
       "_view_module": "@jupyter-widgets/controls",
       "_view_module_version": "2.0.0",
       "_view_name": "ProgressView",
       "bar_style": "success",
       "description": "",
       "description_allow_html": false,
       "layout": "IPY_MODEL_69efd2d23908472da35ce437ef94b72e",
       "max": 156.0,
       "min": 0.0,
       "orientation": "horizontal",
       "style": "IPY_MODEL_3d08f748ea59414dbe3671cea0246de4",
       "tabbable": null,
       "tooltip": null,
       "value": 156.0
      }
     },
     "69efd2d23908472da35ce437ef94b72e": {
      "model_module": "@jupyter-widgets/base",
      "model_module_version": "2.0.0",
      "model_name": "LayoutModel",
      "state": {
       "_model_module": "@jupyter-widgets/base",
       "_model_module_version": "2.0.0",
       "_model_name": "LayoutModel",
       "_view_count": null,
       "_view_module": "@jupyter-widgets/base",
       "_view_module_version": "2.0.0",
       "_view_name": "LayoutView",
       "align_content": null,
       "align_items": null,
       "align_self": null,
       "border_bottom": null,
       "border_left": null,
       "border_right": null,
       "border_top": null,
       "bottom": null,
       "display": null,
       "flex": null,
       "flex_flow": null,
       "grid_area": null,
       "grid_auto_columns": null,
       "grid_auto_flow": null,
       "grid_auto_rows": null,
       "grid_column": null,
       "grid_gap": null,
       "grid_row": null,
       "grid_template_areas": null,
       "grid_template_columns": null,
       "grid_template_rows": null,
       "height": null,
       "justify_content": null,
       "justify_items": null,
       "left": null,
       "margin": null,
       "max_height": null,
       "max_width": null,
       "min_height": null,
       "min_width": null,
       "object_fit": null,
       "object_position": null,
       "order": null,
       "overflow": null,
       "padding": null,
       "right": null,
       "top": null,
       "visibility": null,
       "width": null
      }
     },
     "8c64730dd93442df89f015f44274b599": {
      "model_module": "@jupyter-widgets/base",
      "model_module_version": "2.0.0",
      "model_name": "LayoutModel",
      "state": {
       "_model_module": "@jupyter-widgets/base",
       "_model_module_version": "2.0.0",
       "_model_name": "LayoutModel",
       "_view_count": null,
       "_view_module": "@jupyter-widgets/base",
       "_view_module_version": "2.0.0",
       "_view_name": "LayoutView",
       "align_content": null,
       "align_items": null,
       "align_self": null,
       "border_bottom": null,
       "border_left": null,
       "border_right": null,
       "border_top": null,
       "bottom": null,
       "display": null,
       "flex": null,
       "flex_flow": null,
       "grid_area": null,
       "grid_auto_columns": null,
       "grid_auto_flow": null,
       "grid_auto_rows": null,
       "grid_column": null,
       "grid_gap": null,
       "grid_row": null,
       "grid_template_areas": null,
       "grid_template_columns": null,
       "grid_template_rows": null,
       "height": null,
       "justify_content": null,
       "justify_items": null,
       "left": null,
       "margin": null,
       "max_height": null,
       "max_width": null,
       "min_height": null,
       "min_width": null,
       "object_fit": null,
       "object_position": null,
       "order": null,
       "overflow": null,
       "padding": null,
       "right": null,
       "top": null,
       "visibility": null,
       "width": null
      }
     },
     "914deb76862342f387695ebb2ca8d5de": {
      "model_module": "@jupyter-widgets/base",
      "model_module_version": "2.0.0",
      "model_name": "LayoutModel",
      "state": {
       "_model_module": "@jupyter-widgets/base",
       "_model_module_version": "2.0.0",
       "_model_name": "LayoutModel",
       "_view_count": null,
       "_view_module": "@jupyter-widgets/base",
       "_view_module_version": "2.0.0",
       "_view_name": "LayoutView",
       "align_content": null,
       "align_items": null,
       "align_self": null,
       "border_bottom": null,
       "border_left": null,
       "border_right": null,
       "border_top": null,
       "bottom": null,
       "display": null,
       "flex": null,
       "flex_flow": null,
       "grid_area": null,
       "grid_auto_columns": null,
       "grid_auto_flow": null,
       "grid_auto_rows": null,
       "grid_column": null,
       "grid_gap": null,
       "grid_row": null,
       "grid_template_areas": null,
       "grid_template_columns": null,
       "grid_template_rows": null,
       "height": null,
       "justify_content": null,
       "justify_items": null,
       "left": null,
       "margin": null,
       "max_height": null,
       "max_width": null,
       "min_height": null,
       "min_width": null,
       "object_fit": null,
       "object_position": null,
       "order": null,
       "overflow": null,
       "padding": null,
       "right": null,
       "top": null,
       "visibility": null,
       "width": null
      }
     },
     "96ec60e62b274a76bce11782cab14349": {
      "model_module": "@jupyter-widgets/controls",
      "model_module_version": "2.0.0",
      "model_name": "ProgressStyleModel",
      "state": {
       "_model_module": "@jupyter-widgets/controls",
       "_model_module_version": "2.0.0",
       "_model_name": "ProgressStyleModel",
       "_view_count": null,
       "_view_module": "@jupyter-widgets/base",
       "_view_module_version": "2.0.0",
       "_view_name": "StyleView",
       "bar_color": null,
       "description_width": ""
      }
     },
     "a346e2ac801d4093bd123c81d6eb4294": {
      "model_module": "@jupyter-widgets/base",
      "model_module_version": "2.0.0",
      "model_name": "LayoutModel",
      "state": {
       "_model_module": "@jupyter-widgets/base",
       "_model_module_version": "2.0.0",
       "_model_name": "LayoutModel",
       "_view_count": null,
       "_view_module": "@jupyter-widgets/base",
       "_view_module_version": "2.0.0",
       "_view_name": "LayoutView",
       "align_content": null,
       "align_items": null,
       "align_self": null,
       "border_bottom": null,
       "border_left": null,
       "border_right": null,
       "border_top": null,
       "bottom": null,
       "display": null,
       "flex": null,
       "flex_flow": null,
       "grid_area": null,
       "grid_auto_columns": null,
       "grid_auto_flow": null,
       "grid_auto_rows": null,
       "grid_column": null,
       "grid_gap": null,
       "grid_row": null,
       "grid_template_areas": null,
       "grid_template_columns": null,
       "grid_template_rows": null,
       "height": null,
       "justify_content": null,
       "justify_items": null,
       "left": null,
       "margin": null,
       "max_height": null,
       "max_width": null,
       "min_height": null,
       "min_width": null,
       "object_fit": null,
       "object_position": null,
       "order": null,
       "overflow": null,
       "padding": null,
       "right": null,
       "top": null,
       "visibility": null,
       "width": null
      }
     },
     "a6a720ea5f0e46d4a143e98c883a88ca": {
      "model_module": "@jupyter-widgets/controls",
      "model_module_version": "2.0.0",
      "model_name": "FloatProgressModel",
      "state": {
       "_dom_classes": [],
       "_model_module": "@jupyter-widgets/controls",
       "_model_module_version": "2.0.0",
       "_model_name": "FloatProgressModel",
       "_view_count": null,
       "_view_module": "@jupyter-widgets/controls",
       "_view_module_version": "2.0.0",
       "_view_name": "ProgressView",
       "bar_style": "success",
       "description": "",
       "description_allow_html": false,
       "layout": "IPY_MODEL_ab337006d6ef46c48fab1d5808f3743c",
       "max": 46805552.0,
       "min": 0.0,
       "orientation": "horizontal",
       "style": "IPY_MODEL_96ec60e62b274a76bce11782cab14349",
       "tabbable": null,
       "tooltip": null,
       "value": 46805552.0
      }
     },
     "ab337006d6ef46c48fab1d5808f3743c": {
      "model_module": "@jupyter-widgets/base",
      "model_module_version": "2.0.0",
      "model_name": "LayoutModel",
      "state": {
       "_model_module": "@jupyter-widgets/base",
       "_model_module_version": "2.0.0",
       "_model_name": "LayoutModel",
       "_view_count": null,
       "_view_module": "@jupyter-widgets/base",
       "_view_module_version": "2.0.0",
       "_view_name": "LayoutView",
       "align_content": null,
       "align_items": null,
       "align_self": null,
       "border_bottom": null,
       "border_left": null,
       "border_right": null,
       "border_top": null,
       "bottom": null,
       "display": null,
       "flex": null,
       "flex_flow": null,
       "grid_area": null,
       "grid_auto_columns": null,
       "grid_auto_flow": null,
       "grid_auto_rows": null,
       "grid_column": null,
       "grid_gap": null,
       "grid_row": null,
       "grid_template_areas": null,
       "grid_template_columns": null,
       "grid_template_rows": null,
       "height": null,
       "justify_content": null,
       "justify_items": null,
       "left": null,
       "margin": null,
       "max_height": null,
       "max_width": null,
       "min_height": null,
       "min_width": null,
       "object_fit": null,
       "object_position": null,
       "order": null,
       "overflow": null,
       "padding": null,
       "right": null,
       "top": null,
       "visibility": null,
       "width": null
      }
     },
     "cde34e2e4b5145ddbaaa407a0e3c3448": {
      "model_module": "@jupyter-widgets/controls",
      "model_module_version": "2.0.0",
      "model_name": "HBoxModel",
      "state": {
       "_dom_classes": [],
       "_model_module": "@jupyter-widgets/controls",
       "_model_module_version": "2.0.0",
       "_model_name": "HBoxModel",
       "_view_count": null,
       "_view_module": "@jupyter-widgets/controls",
       "_view_module_version": "2.0.0",
       "_view_name": "HBoxView",
       "box_style": "",
       "children": [
        "IPY_MODEL_5e117ad297bb4581980bef54a340e852",
        "IPY_MODEL_a6a720ea5f0e46d4a143e98c883a88ca",
        "IPY_MODEL_569f86a02f6e410c9383e10704b26b2a"
       ],
       "layout": "IPY_MODEL_3be1a94392cc45d3b83bc3f6a432a411",
       "tabbable": null,
       "tooltip": null
      }
     },
     "e834a5a791ea4246a4d24d4c4e82fd1d": {
      "model_module": "@jupyter-widgets/controls",
      "model_module_version": "2.0.0",
      "model_name": "HTMLModel",
      "state": {
       "_dom_classes": [],
       "_model_module": "@jupyter-widgets/controls",
       "_model_module_version": "2.0.0",
       "_model_name": "HTMLModel",
       "_view_count": null,
       "_view_module": "@jupyter-widgets/controls",
       "_view_module_version": "2.0.0",
       "_view_name": "HTMLView",
       "description": "",
       "description_allow_html": false,
       "layout": "IPY_MODEL_8c64730dd93442df89f015f44274b599",
       "placeholder": "​",
       "style": "IPY_MODEL_33eeaa69fbd544569f8299fc90c3377d",
       "tabbable": null,
       "tooltip": null,
       "value": " 156/156 [00:00&lt;00:00, 15.6kB/s]"
      }
     },
     "eccac99ae8e94985be6c5463c0a8937b": {
      "model_module": "@jupyter-widgets/controls",
      "model_module_version": "2.0.0",
      "model_name": "HTMLStyleModel",
      "state": {
       "_model_module": "@jupyter-widgets/controls",
       "_model_module_version": "2.0.0",
       "_model_name": "HTMLStyleModel",
       "_view_count": null,
       "_view_module": "@jupyter-widgets/base",
       "_view_module_version": "2.0.0",
       "_view_name": "StyleView",
       "background": null,
       "description_width": "",
       "font_size": null,
       "text_color": null
      }
     },
     "f0b934b2f0a34191ada36e378e679816": {
      "model_module": "@jupyter-widgets/controls",
      "model_module_version": "2.0.0",
      "model_name": "HBoxModel",
      "state": {
       "_dom_classes": [],
       "_model_module": "@jupyter-widgets/controls",
       "_model_module_version": "2.0.0",
       "_model_name": "HBoxModel",
       "_view_count": null,
       "_view_module": "@jupyter-widgets/controls",
       "_view_module_version": "2.0.0",
       "_view_name": "HBoxView",
       "box_style": "",
       "children": [
        "IPY_MODEL_07cd206057e84cbdbebf8520f1e53c76",
        "IPY_MODEL_5e9d230d787b415aa0c200061712f989",
        "IPY_MODEL_e834a5a791ea4246a4d24d4c4e82fd1d"
       ],
       "layout": "IPY_MODEL_914deb76862342f387695ebb2ca8d5de",
       "tabbable": null,
       "tooltip": null
      }
     },
     "f4fe2257e5cc49b296c78db50bb2b74a": {
      "model_module": "@jupyter-widgets/base",
      "model_module_version": "2.0.0",
      "model_name": "LayoutModel",
      "state": {
       "_model_module": "@jupyter-widgets/base",
       "_model_module_version": "2.0.0",
       "_model_name": "LayoutModel",
       "_view_count": null,
       "_view_module": "@jupyter-widgets/base",
       "_view_module_version": "2.0.0",
       "_view_name": "LayoutView",
       "align_content": null,
       "align_items": null,
       "align_self": null,
       "border_bottom": null,
       "border_left": null,
       "border_right": null,
       "border_top": null,
       "bottom": null,
       "display": null,
       "flex": null,
       "flex_flow": null,
       "grid_area": null,
       "grid_auto_columns": null,
       "grid_auto_flow": null,
       "grid_auto_rows": null,
       "grid_column": null,
       "grid_gap": null,
       "grid_row": null,
       "grid_template_areas": null,
       "grid_template_columns": null,
       "grid_template_rows": null,
       "height": null,
       "justify_content": null,
       "justify_items": null,
       "left": null,
       "margin": null,
       "max_height": null,
       "max_width": null,
       "min_height": null,
       "min_width": null,
       "object_fit": null,
       "object_position": null,
       "order": null,
       "overflow": null,
       "padding": null,
       "right": null,
       "top": null,
       "visibility": null,
       "width": null
      }
     },
     "fa8eb46ec92e43339adae9fa20c600bb": {
      "model_module": "@jupyter-widgets/base",
      "model_module_version": "2.0.0",
      "model_name": "LayoutModel",
      "state": {
       "_model_module": "@jupyter-widgets/base",
       "_model_module_version": "2.0.0",
       "_model_name": "LayoutModel",
       "_view_count": null,
       "_view_module": "@jupyter-widgets/base",
       "_view_module_version": "2.0.0",
       "_view_name": "LayoutView",
       "align_content": null,
       "align_items": null,
       "align_self": null,
       "border_bottom": null,
       "border_left": null,
       "border_right": null,
       "border_top": null,
       "bottom": null,
       "display": null,
       "flex": null,
       "flex_flow": null,
       "grid_area": null,
       "grid_auto_columns": null,
       "grid_auto_flow": null,
       "grid_auto_rows": null,
       "grid_column": null,
       "grid_gap": null,
       "grid_row": null,
       "grid_template_areas": null,
       "grid_template_columns": null,
       "grid_template_rows": null,
       "height": null,
       "justify_content": null,
       "justify_items": null,
       "left": null,
       "margin": null,
       "max_height": null,
       "max_width": null,
       "min_height": null,
       "min_width": null,
       "object_fit": null,
       "object_position": null,
       "order": null,
       "overflow": null,
       "padding": null,
       "right": null,
       "top": null,
       "visibility": null,
       "width": null
      }
     }
    },
    "version_major": 2,
    "version_minor": 0
   }
  }
 },
 "nbformat": 4,
 "nbformat_minor": 5
}
